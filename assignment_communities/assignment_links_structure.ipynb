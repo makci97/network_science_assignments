{
 "cells": [
  {
   "cell_type": "markdown",
   "metadata": {},
   "source": [
    "# Practical Assignment — Community detection"
   ]
  },
  {
   "cell_type": "code",
   "execution_count": null,
   "metadata": {},
   "outputs": [],
   "source": [
    "import networkx as nx\n",
    "import numpy as np\n",
    "import matplotlib.pyplot as plt\n",
    "import seaborn as sns\n",
    "import pandas as pd"
   ]
  },
  {
   "cell_type": "markdown",
   "metadata": {},
   "source": [
    "In this assignment, we try to detect communities in Les Miserables graph. But first, let us drop weights of nodes."
   ]
  },
  {
   "cell_type": "code",
   "execution_count": null,
   "metadata": {},
   "outputs": [],
   "source": [
    "G = nx.Graph()\n",
    "G.add_edges_from(nx.les_miserables_graph().edges)\n",
    "pos = nx.nx_agraph.graphviz_layout(G)"
   ]
  },
  {
   "cell_type": "markdown",
   "metadata": {},
   "source": [
    "### Task. k-core decomposition\n",
    "Let us apply k-core decomposition from networkx. Use `nx.k_core` and colorize every node by its k-shell.\n",
    "\n",
    "Write a function `k_core_decompose` that takes a graph `G` and returns a np.array with k of node's k-shell. For example, if there are node 1, 2, 3, 4 and nodes 1 is in 1-shell, nodes 2, 3, 4 are in 2-shell, then the output will be [1, 2, 2, 2]."
   ]
  },
  {
   "cell_type": "code",
   "execution_count": null,
   "metadata": {
    "deletable": false,
    "nbgrader": {
     "cell_type": "code",
     "checksum": "ce7d9ffef4e3f46acabf5797209b3c95",
     "grade": false,
     "grade_id": "cell-6bc37c9006da13f3",
     "locked": false,
     "schema_version": 3,
     "solution": true,
     "task": false
    }
   },
   "outputs": [],
   "source": [
    "def k_core_decompose(G):\n",
    "    # YOUR CODE HERE\n",
    "    raise NotImplementedError()"
   ]
  },
  {
   "cell_type": "code",
   "execution_count": null,
   "metadata": {
    "deletable": false,
    "editable": false,
    "nbgrader": {
     "cell_type": "code",
     "checksum": "47c89d7a0a19e81dd0720b7a9c433c86",
     "grade": true,
     "grade_id": "cell-b9a3011eade1d46f",
     "locked": true,
     "points": 0,
     "schema_version": 3,
     "solution": false,
     "task": false
    }
   },
   "outputs": [],
   "source": [
    "colors = k_core_decompose(G)\n",
    "assert colors.shape == (77,)\n",
    "assert colors.min() == 1\n",
    "assert colors.max() == 9\n",
    "assert colors[10] == 8\n",
    "assert colors[65] == 9"
   ]
  },
  {
   "cell_type": "markdown",
   "metadata": {},
   "source": [
    "Let us draw k-shells of the graph in some k-cores."
   ]
  },
  {
   "cell_type": "code",
   "execution_count": null,
   "metadata": {},
   "outputs": [],
   "source": [
    "plt.figure(figsize=(8*2, 8*4))\n",
    "\n",
    "x_max, y_max = np.array(list(pos.values())).max(axis=0)\n",
    "x_min, y_min = np.array(list(pos.values())).min(axis=0)\n",
    "\n",
    "for i in range(8):\n",
    "    plt.subplot(4, 2, i+1)\n",
    "    subG = nx.k_core(G, i+1)\n",
    "    nodes = nx.draw_networkx_nodes(\n",
    "        subG, \n",
    "        pos,\n",
    "        cmap=plt.cm.gist_rainbow,\n",
    "        node_color=k_core_decompose(subG), \n",
    "        node_size=100, \n",
    "        linewidths=1, \n",
    "        edgecolors='black'\n",
    "    )\n",
    "    nx.draw_networkx_edges(\n",
    "        subG, \n",
    "        pos,\n",
    "        alpha=0.2,\n",
    "        width=1, \n",
    "        edge_color='black'\n",
    "    )\n",
    "    eps = (x_max - x_min) * 0.05\n",
    "    plt.xlim(x_min-eps, x_max+eps)\n",
    "    plt.ylim(y_min-eps, y_max+eps)\n",
    "    plt.legend(*nodes.legend_elements())\n",
    "    plt.axis('off')\n",
    "    plt.title('k-shells on {}-core'.format(i+1))"
   ]
  },
  {
   "cell_type": "markdown",
   "metadata": {},
   "source": [
    "### Task. Clique detection\n",
    "\n",
    "Cluque is a complete subgraph — simple model of a community. Find the largest cliques in the graph by `nx.find_cliques` and visualize them.\n",
    "\n",
    "Write a function `largest_cliques` that takes a graph and finds the largest cliques of the same size and collect colors and widths by the following rule: all nodes are white except of nodes in the largest cluque, all edges are thin except of edges inside of the clique. The function returns a tuple of 2 np.arrays: \n",
    "* rgb np.array has a shape [n, m, 3] where n is a number of cliques, m is a number of nodes, 3 is (r, g, b) values in the interval [0-1]. \n",
    "* width np.array has a shape [n, k] where n is a number of cliques, k is a number of edges. \n",
    "\n",
    "Colors should be ordered by `G.nodes`. Widths should be ordered by `G.edges`."
   ]
  },
  {
   "cell_type": "code",
   "execution_count": null,
   "metadata": {
    "deletable": false,
    "nbgrader": {
     "cell_type": "code",
     "checksum": "f5a7d12b51d06a80d4e6effa2b653442",
     "grade": false,
     "grade_id": "cell-7438d91011ca0bb2",
     "locked": false,
     "schema_version": 3,
     "solution": true,
     "task": false
    }
   },
   "outputs": [],
   "source": [
    "def largest_cliques(G):\n",
    "    # YOUR CODE HERE\n",
    "    raise NotImplementedError()"
   ]
  },
  {
   "cell_type": "code",
   "execution_count": null,
   "metadata": {
    "deletable": false,
    "editable": false,
    "nbgrader": {
     "cell_type": "code",
     "checksum": "e51e67463cb8962b06b96c7debf7588f",
     "grade": true,
     "grade_id": "cell-e868f18abe64ef06",
     "locked": true,
     "points": 0,
     "schema_version": 3,
     "solution": false,
     "task": false
    }
   },
   "outputs": [],
   "source": [
    "colors, widths = largest_cliques(G)\n",
    "assert colors.shape == (2, 77, 3)\n",
    "assert np.unique(colors[0], axis=0, return_counts=True)[1][0] == 10\n",
    "assert np.unique(colors[1], axis=0, return_counts=True)[1][0] == 10\n",
    "assert widths.shape == (2, 254)\n",
    "assert np.unique(widths[0], axis=0, return_counts=True)[1][1] == 45\n",
    "assert np.unique(widths[1], axis=0, return_counts=True)[1][1] == 45"
   ]
  },
  {
   "cell_type": "markdown",
   "metadata": {},
   "source": [
    "Let us draw a few examples of found cliques."
   ]
  },
  {
   "cell_type": "code",
   "execution_count": null,
   "metadata": {},
   "outputs": [],
   "source": [
    "plt.figure(figsize=(16, 8))\n",
    "\n",
    "for i in range(colors.shape[0]):\n",
    "    plt.subplot(1, 2, i+1)\n",
    "    nodes = nx.draw_networkx_nodes(\n",
    "        G, \n",
    "        pos,\n",
    "        node_color=colors[i], \n",
    "        node_size=100, \n",
    "        linewidths=1, \n",
    "        edgecolors='black'\n",
    "    )\n",
    "    nx.draw_networkx_edges(\n",
    "        G,\n",
    "        pos,\n",
    "        width=widths[i], \n",
    "        edge_color='black'\n",
    "    )\n",
    "    plt.title('The largest clique')\n",
    "    plt.axis('off')"
   ]
  },
  {
   "cell_type": "markdown",
   "metadata": {},
   "source": [
    "### Task. Edge betweenness\n",
    "Let us apply Girvan Newman algorithm with edge betweenness. Use `nx.algorithms.community.girvan_newman` to find communities.\n",
    "\n",
    "Write a function `edge_betweenness` that takes a graph and the number of divisions and returns np.array of (integer) labels of nodes in each iteration. The shape of the output is [n, m] where n is a number of iteration and m is a number of nodes."
   ]
  },
  {
   "cell_type": "code",
   "execution_count": null,
   "metadata": {
    "deletable": false,
    "nbgrader": {
     "cell_type": "code",
     "checksum": "78ae0c3a1e46a3805215acf726f2bfc0",
     "grade": false,
     "grade_id": "cell-d871f77dcf06fa15",
     "locked": false,
     "schema_version": 3,
     "solution": true,
     "task": false
    }
   },
   "outputs": [],
   "source": [
    "def edge_betweenness(G, n):\n",
    "    # YOUR CODE HERE\n",
    "    raise NotImplementedError()"
   ]
  },
  {
   "cell_type": "code",
   "execution_count": null,
   "metadata": {
    "deletable": false,
    "editable": false,
    "nbgrader": {
     "cell_type": "code",
     "checksum": "942873e2c40e208671e76a2fb20f0b4b",
     "grade": true,
     "grade_id": "cell-8dd9a36b0d20c57d",
     "locked": true,
     "points": 0,
     "schema_version": 3,
     "solution": false,
     "task": false
    }
   },
   "outputs": [],
   "source": [
    "labels = edge_betweenness(G, 6)\n",
    "assert labels.shape == (6, 77)\n",
    "assert np.unique(labels[0]).shape == (2,)\n",
    "assert np.unique(labels[0]).shape[0] < np.unique(labels[1]).shape[0] < np.unique(labels[5]).shape[0]"
   ]
  },
  {
   "cell_type": "markdown",
   "metadata": {},
   "source": [
    "Let us draw Girvan Newman algorithm step-by-step."
   ]
  },
  {
   "cell_type": "code",
   "execution_count": null,
   "metadata": {},
   "outputs": [],
   "source": [
    "plt.figure(figsize=(8*2, 8*3))\n",
    "colors = edge_betweenness(G, 6)\n",
    "for i in range(colors.shape[0]):\n",
    "    plt.subplot(3, 2, i+1)\n",
    "    nx.draw_networkx_nodes(\n",
    "        G, \n",
    "        pos,\n",
    "        cmap=plt.cm.rainbow,\n",
    "        node_color=colors[i], \n",
    "        node_size=100, \n",
    "        linewidths=1, \n",
    "        edgecolors='black'\n",
    "    )\n",
    "    nx.draw_networkx_edges(\n",
    "        G,\n",
    "        pos,\n",
    "        alpha=0.2,\n",
    "        edge_color='black'\n",
    "    )\n",
    "    plt.title('Edge betweenness, {} communities'.format(i+2))\n",
    "    plt.axis('off')"
   ]
  },
  {
   "cell_type": "markdown",
   "metadata": {},
   "source": [
    "### Task. Modularity\n",
    "\n",
    "Modularity helps to decide when to stop splitting the graph. The large modularity, the better partitioning. Let us see how modularity changes during division.\n",
    "\n",
    "Write a function `edge_betw_modularity` that takes a graph, number of iterations of Girvan Newman algorithm and returns a np.array with modularity after each iteration. Use `nx.algorithms.community.modularity`."
   ]
  },
  {
   "cell_type": "code",
   "execution_count": null,
   "metadata": {
    "deletable": false,
    "nbgrader": {
     "cell_type": "code",
     "checksum": "17263e09aceb2cdcd822a6ba9d1e8a83",
     "grade": false,
     "grade_id": "cell-9f7fb2b1efbb7ba5",
     "locked": false,
     "schema_version": 3,
     "solution": true,
     "task": false
    }
   },
   "outputs": [],
   "source": [
    "def edge_betw_modularity(G, n):\n",
    "    # YOUR CODE HERE\n",
    "    raise NotImplementedError()"
   ]
  },
  {
   "cell_type": "code",
   "execution_count": null,
   "metadata": {},
   "outputs": [],
   "source": [
    "modularities = edge_betw_modularity(G, 8)\n",
    "assert modularities.shape == (8, )\n",
    "assert round(modularities[0], 4) == 0.0746\n",
    "assert round(modularities[-1], 4) == 0.4519"
   ]
  },
  {
   "cell_type": "markdown",
   "metadata": {},
   "source": [
    "Let us draw dependency between a number of iteration and modularity."
   ]
  },
  {
   "cell_type": "code",
   "execution_count": null,
   "metadata": {},
   "outputs": [],
   "source": [
    "plt.figure(figsize=(8, 6))\n",
    "plt.plot(range(2, 10), modularities)\n",
    "best_n = np.argmax(modularities) + 2\n",
    "plt.plot(\n",
    "    [best_n, best_n], [min(modularities), max(modularities)], \n",
    "    'k--', c='tab:red', label='number of communities with max modularity {:.2f}'.format(max(modularities))\n",
    ")\n",
    "plt.ylabel('Modularity score')\n",
    "plt.xlabel('Number of communities')\n",
    "plt.legend(loc='upper left')\n",
    "plt.ylim(min(modularities), 0.5)\n",
    "plt.show()"
   ]
  }
 ],
 "metadata": {
  "kernelspec": {
   "display_name": "Python 3",
   "language": "python",
   "name": "python3"
  },
  "language_info": {
   "codemirror_mode": {
    "name": "ipython",
    "version": 3
   },
   "file_extension": ".py",
   "mimetype": "text/x-python",
   "name": "python",
   "nbconvert_exporter": "python",
   "pygments_lexer": "ipython3",
   "version": "3.7.4"
  }
 },
 "nbformat": 4,
 "nbformat_minor": 4
}
