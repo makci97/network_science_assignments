{
 "cells": [
  {
   "cell_type": "markdown",
   "metadata": {},
   "source": [
    "# Practical Assignment — Community detection"
   ]
  },
  {
   "cell_type": "code",
   "execution_count": null,
   "metadata": {},
   "outputs": [],
   "source": [
    "import networkx as nx\n",
    "import numpy as np\n",
    "import matplotlib.pyplot as plt\n",
    "import seaborn as sns\n",
    "import pandas as pd\n",
    "from sklearn import datasets\n",
    "from sklearn.cluster import KMeans\n",
    "from sklearn.cluster import AgglomerativeClustering\n",
    "from scipy.cluster.hierarchy import dendrogram, linkage\n",
    "from scipy.spatial.distance import squareform\n",
    "import requests"
   ]
  },
  {
   "cell_type": "markdown",
   "metadata": {},
   "source": [
    "In this assignment, we try to detect communities in Les Miserables graph. But first, let us drop weights of nodes and look at a graphviz layout `neato` that helps to see structure in small networks. To generate `neato` layout use\n",
    "```python\n",
    "pos = nx.nx_agraph.graphviz_layout(G, 'neato', args='-Goverlap=false')\n",
    "```\n",
    "Let us download this layout in case you did not install graphviz."
   ]
  },
  {
   "cell_type": "code",
   "execution_count": null,
   "metadata": {},
   "outputs": [],
   "source": [
    "url = 'https://raw.githubusercontent.com/vpozdnyakov/network_science_assignments/master/assignment_communities/les_miserables_neato.txt'\n"
   ]
  },
  {
   "cell_type": "code",
   "execution_count": null,
   "metadata": {},
   "outputs": [],
   "source": [
    "G = nx.Graph()\n",
    "G.add_edges_from(nx.les_miserables_graph().edges)\n",
    "\n",
    "pos = eval(requests.get(url).content)\n",
    "\n",
    "plt.figure(figsize=(8, 8))\n",
    "nx.draw_networkx_nodes(G, pos, node_color='white', edgecolors='black', node_size=100)\n",
    "nx.draw_networkx_edges(G, pos, alpha=0.3)\n",
    "plt.axis('off')\n",
    "plt.show()"
   ]
  },
  {
   "cell_type": "markdown",
   "metadata": {},
   "source": [
    "### Task 1. k-core decomposition (1 point)\n",
    "Let us apply k-core decomposition from networkx. Use `nx.k_core` and colorize every node by its k-shell.\n",
    "\n",
    "Write a function `k_core_decompose` that takes a graph `G` and returns a np.array with k of node's k-shell. For example, if there are node 1, 2, 3, 4 and nodes 1 is in 1-shell, nodes 2, 3, 4 are in 2-shell, then the output will be [1, 2, 2, 2]."
   ]
  },
  {
   "cell_type": "code",
   "execution_count": null,
   "metadata": {
    "deletable": false,
    "nbgrader": {
     "cell_type": "code",
     "checksum": "ce7d9ffef4e3f46acabf5797209b3c95",
     "grade": false,
     "grade_id": "cell-6bc37c9006da13f3",
     "locked": false,
     "schema_version": 3,
     "solution": true,
     "task": false
    }
   },
   "outputs": [],
   "source": [
    "def k_core_decompose(G):\n",
    "    # YOUR CODE HERE\n",
    "    raise NotImplementedError()"
   ]
  },
  {
   "cell_type": "code",
   "execution_count": null,
   "metadata": {
    "deletable": false,
    "editable": false,
    "nbgrader": {
     "cell_type": "code",
     "checksum": "478b682d4f8ace819c8fc69180c61ff7",
     "grade": true,
     "grade_id": "cell-b9a3011eade1d46f",
     "locked": true,
     "points": 1,
     "schema_version": 3,
     "solution": false,
     "task": false
    }
   },
   "outputs": [],
   "source": [
    "labels = k_core_decompose(G)\n",
    "assert labels.shape == (77,)\n",
    "assert labels.min() == 1\n",
    "assert labels.max() == 9\n",
    "assert labels[10] == 8\n",
    "assert labels[65] == 9"
   ]
  },
  {
   "cell_type": "markdown",
   "metadata": {},
   "source": [
    "Let us draw k-shells of the graph in some k-cores."
   ]
  },
  {
   "cell_type": "code",
   "execution_count": null,
   "metadata": {},
   "outputs": [],
   "source": [
    "plt.figure(figsize=(8*2, 8*4))\n",
    "\n",
    "x_max, y_max = np.array(list(pos.values())).max(axis=0)\n",
    "x_min, y_min = np.array(list(pos.values())).min(axis=0)\n",
    "\n",
    "for i in range(8):\n",
    "    plt.subplot(4, 2, i+1)\n",
    "    subG = nx.k_core(G, i+1)\n",
    "    nodes = nx.draw_networkx_nodes(\n",
    "        subG, \n",
    "        pos,\n",
    "        cmap=plt.cm.OrRd,\n",
    "        node_color=k_core_decompose(subG), \n",
    "        node_size=100, \n",
    "        edgecolors='black'\n",
    "    )\n",
    "    nx.draw_networkx_edges(\n",
    "        subG, \n",
    "        pos,\n",
    "        alpha=0.3,\n",
    "        width=1, \n",
    "        edge_color='black'\n",
    "    )\n",
    "    eps = (x_max - x_min) * 0.05\n",
    "    plt.xlim(x_min-eps, x_max+eps)\n",
    "    plt.ylim(y_min-eps, y_max+eps)\n",
    "    plt.legend(*nodes.legend_elements())\n",
    "    plt.axis('off')\n",
    "    plt.title('k-shells on {}-core'.format(i+1))"
   ]
  },
  {
   "cell_type": "markdown",
   "metadata": {},
   "source": [
    "### Task 2. Clique detection (1 point)\n",
    "\n",
    "Cluque is a complete subgraph — a simple model of a community. Find the largest cliques in the graph by `nx.find_cliques` and visualize them.\n",
    "\n",
    "Write a function `largest_cliques` that takes a graph and finds the largest cliques of the same size and collect colors and widths by the following rule: all nodes are white except of nodes in the largest cluque, all edges are thin (adjust as you like) except of edges within cliques. The function returns a tuple with 2 np.arrays: \n",
    "* rgb np.array has a shape [n, m, 3] where n is a number of cliques, m is a number of nodes, 3 (r, g, b) is a number of values in the interval [0, 1]. \n",
    "* width np.array has a shape [n, k] where n is a number of cliques, k is a number of edges. \n",
    "\n",
    "Colors are ordered by `G.nodes`, widths are ordered by `G.edges`."
   ]
  },
  {
   "cell_type": "code",
   "execution_count": null,
   "metadata": {
    "deletable": false,
    "nbgrader": {
     "cell_type": "code",
     "checksum": "f5a7d12b51d06a80d4e6effa2b653442",
     "grade": false,
     "grade_id": "cell-7438d91011ca0bb2",
     "locked": false,
     "schema_version": 3,
     "solution": true,
     "task": false
    }
   },
   "outputs": [],
   "source": [
    "def largest_cliques(G):\n",
    "    # YOUR CODE HERE\n",
    "    raise NotImplementedError()"
   ]
  },
  {
   "cell_type": "code",
   "execution_count": null,
   "metadata": {
    "deletable": false,
    "editable": false,
    "nbgrader": {
     "cell_type": "code",
     "checksum": "3b1a7ae7d6d5864d0b8247036465c77a",
     "grade": true,
     "grade_id": "cell-e868f18abe64ef06",
     "locked": true,
     "points": 1,
     "schema_version": 3,
     "solution": false,
     "task": false
    }
   },
   "outputs": [],
   "source": [
    "colors, widths = largest_cliques(G)\n",
    "assert colors.shape == (2, 77, 3)\n",
    "size = np.unique(colors[0], axis=0, return_counts=True)[1][0]\n",
    "assert size == 10\n",
    "assert np.unique(colors[1], axis=0, return_counts=True)[1][0] == 10\n",
    "assert ((colors.sum(axis=2) < 3)[0] & (colors.sum(axis=2) < 3)[1]).sum() == 8\n",
    "assert widths.shape == (2, 254)\n",
    "assert np.unique(widths[0], axis=0, return_counts=True)[1][1] == 45\n",
    "assert np.unique(widths[1], axis=0, return_counts=True)[1][1] == 45\n",
    "assert ((widths == widths.min())[0] & (widths == widths.min())[1]).sum() == 192"
   ]
  },
  {
   "cell_type": "markdown",
   "metadata": {},
   "source": [
    "Let us draw a few examples of found cliques."
   ]
  },
  {
   "cell_type": "code",
   "execution_count": null,
   "metadata": {},
   "outputs": [],
   "source": [
    "plt.figure(figsize=(8*2, 8))\n",
    "\n",
    "for i in range(colors.shape[0]):\n",
    "    \n",
    "    b_edges = np.array(list(G.edges))[widths[i] == widths[i].max()]\n",
    "    \n",
    "    plt.subplot(1, 2, i+1)\n",
    "    nodes = nx.draw_networkx_nodes(\n",
    "        G, \n",
    "        pos,\n",
    "        node_color=colors[i], \n",
    "        node_size=100, \n",
    "        linewidths=1, \n",
    "        edgecolors='black'\n",
    "    )\n",
    "    nx.draw_networkx_edges(\n",
    "        G,\n",
    "        pos,\n",
    "        alpha=0.3,\n",
    "        width=widths[i].min()\n",
    "    )\n",
    "    nx.draw_networkx_edges(\n",
    "        G,\n",
    "        pos,\n",
    "        width=widths[i].max(),\n",
    "        edgelist=b_edges\n",
    "    )\n",
    "    plt.title('Clique of the size {}'.format(size))\n",
    "    plt.axis('off')"
   ]
  },
  {
   "cell_type": "markdown",
   "metadata": {},
   "source": [
    "### Task 3. Girvan Newman algorithm, edge betweenness (1 point)\n",
    "Let us apply Girvan Newman algorithm with edge betweenness. The idea is we cut edges with highest betweenness until the graph becomes disconnected. Use `nx.algorithms.community.girvan_newman` to find communities.\n",
    "\n",
    "Write a function `edge_betweenness` that takes a graph and the number of divisions and returns np.array of (integer) labels of nodes in each iteration. The shape of the output is [n, m] where n is a number of iteration and m is a number of nodes."
   ]
  },
  {
   "cell_type": "code",
   "execution_count": null,
   "metadata": {
    "deletable": false,
    "nbgrader": {
     "cell_type": "code",
     "checksum": "78ae0c3a1e46a3805215acf726f2bfc0",
     "grade": false,
     "grade_id": "cell-d871f77dcf06fa15",
     "locked": false,
     "schema_version": 3,
     "solution": true,
     "task": false
    }
   },
   "outputs": [],
   "source": [
    "def edge_betweenness(G, n):\n",
    "    # YOUR CODE HERE\n",
    "    raise NotImplementedError()"
   ]
  },
  {
   "cell_type": "code",
   "execution_count": null,
   "metadata": {
    "deletable": false,
    "editable": false,
    "nbgrader": {
     "cell_type": "code",
     "checksum": "5a3b3eeb74c3757930a3708d792c21c4",
     "grade": true,
     "grade_id": "cell-8dd9a36b0d20c57d",
     "locked": true,
     "points": 1,
     "schema_version": 3,
     "solution": false,
     "task": false
    }
   },
   "outputs": [],
   "source": [
    "labels = edge_betweenness(G, 6)\n",
    "assert labels.shape == (6, 77)\n",
    "assert np.unique(labels[0]).shape == (2,)\n",
    "assert np.unique(labels[0]).shape[0] < np.unique(labels[1]).shape[0] < np.unique(labels[5]).shape[0]\n",
    "assert labels[5][22] == labels[5][23]\n",
    "assert labels[5][31] == labels[5][34]"
   ]
  },
  {
   "cell_type": "markdown",
   "metadata": {},
   "source": [
    "Let us draw Girvan Newman algorithm step-by-step."
   ]
  },
  {
   "cell_type": "code",
   "execution_count": null,
   "metadata": {},
   "outputs": [],
   "source": [
    "plt.figure(figsize=(7*2, 7*3))\n",
    "colors = edge_betweenness(G, 6)\n",
    "for i in range(colors.shape[0]):\n",
    "    plt.subplot(3, 2, i+1)\n",
    "    nx.draw_networkx_nodes(\n",
    "        G, \n",
    "        pos,\n",
    "        cmap=plt.cm.rainbow,\n",
    "        node_color=colors[i], \n",
    "        node_size=100, \n",
    "        edgecolors='black'\n",
    "    )\n",
    "    nx.draw_networkx_edges(G, pos, alpha=0.3)\n",
    "    plt.title('Edge betweenness, {} communities'.format(i+2))\n",
    "    plt.axis('off')"
   ]
  },
  {
   "cell_type": "markdown",
   "metadata": {},
   "source": [
    "### Task 4. Modularity (1 point)\n",
    "\n",
    "Modularity helps to decide when to stop splitting the graph. The large modularity, the better partitioning. Let us see how modularity changes during division.\n",
    "\n",
    "Write a function `edge_betw_modularity` that takes a graph, number of iterations of Girvan Newman algorithm and returns a np.array with modularity after each iteration. Use `nx.algorithms.community.modularity`."
   ]
  },
  {
   "cell_type": "code",
   "execution_count": null,
   "metadata": {
    "deletable": false,
    "nbgrader": {
     "cell_type": "code",
     "checksum": "17263e09aceb2cdcd822a6ba9d1e8a83",
     "grade": false,
     "grade_id": "cell-9f7fb2b1efbb7ba5",
     "locked": false,
     "schema_version": 3,
     "solution": true,
     "task": false
    }
   },
   "outputs": [],
   "source": [
    "def edge_betw_modularity(G, n):\n",
    "    # YOUR CODE HERE\n",
    "    raise NotImplementedError()"
   ]
  },
  {
   "cell_type": "code",
   "execution_count": null,
   "metadata": {
    "deletable": false,
    "editable": false,
    "nbgrader": {
     "cell_type": "code",
     "checksum": "0affd7b014dab1db467ae83163fd0a7f",
     "grade": true,
     "grade_id": "cell-8701bf83b9020f57",
     "locked": true,
     "points": 1,
     "schema_version": 3,
     "solution": false,
     "task": false
    }
   },
   "outputs": [],
   "source": [
    "n_iterations = 20\n",
    "modularity = edge_betw_modularity(G, n_iterations)\n",
    "assert modularity.shape == (n_iterations, )\n",
    "assert round(modularity[0], 4) == 0.0746\n",
    "assert round(modularity[7], 4) == 0.4519"
   ]
  },
  {
   "cell_type": "markdown",
   "metadata": {},
   "source": [
    "Let us draw dependency between a number of iteration and modularity."
   ]
  },
  {
   "cell_type": "code",
   "execution_count": null,
   "metadata": {},
   "outputs": [],
   "source": [
    "plt.figure(figsize=(6, 4))\n",
    "plt.plot(np.arange(n_iterations)+2, modularity)\n",
    "best_n = np.argmax(modularity) + 2\n",
    "label = 'number of communities with max modularity {:.2f}'.format(max(modularity))\n",
    "plt.plot(\n",
    "    [best_n, best_n], [min(modularity), max(modularity)], \n",
    "    'k--', c='tab:red', \n",
    "    label=label\n",
    ")\n",
    "plt.ylabel('Modularity score')\n",
    "plt.xlabel('Number of communities')\n",
    "plt.legend(loc='upper left')\n",
    "plt.ylim((modularity.min(), 0.6))\n",
    "plt.show()"
   ]
  },
  {
   "cell_type": "markdown",
   "metadata": {},
   "source": [
    "### Task 5. Eigenvalues of graph Laplacian (1 point)\n",
    "\n",
    "Graph Laplacian is\n",
    "\n",
    "$$L = D - A$$\n",
    "\n",
    "where $A$ is an adjacency matrix and $D$ is a diagonal matrix with node degrees. Eigenvalues and eigenvectors of Laplacian can give us information about structure of a graph. Let us see a few simple example.\n",
    "\n",
    "Write a function `eig_laplacian` that takes a graph and returns a tuple with 2 np.arrays: eigenvectors and eigenvalues of Laplacian. The both are ordered in ascending of eigenvalues. \n",
    "\n",
    "_Remark: any symmetric matrix has only real eigenvalues and eigenvectors. Trancate imaginary part if your solver returns it._"
   ]
  },
  {
   "cell_type": "code",
   "execution_count": null,
   "metadata": {
    "deletable": false,
    "nbgrader": {
     "cell_type": "code",
     "checksum": "a0c7c52f6045549d2bd274049aaf9804",
     "grade": false,
     "grade_id": "cell-75b0de6ccf68d1cf",
     "locked": false,
     "schema_version": 3,
     "solution": true,
     "task": false
    }
   },
   "outputs": [],
   "source": [
    "def eig_laplacian(G):\n",
    "    # YOUR CODE HERE\n",
    "    raise NotImplementedError()"
   ]
  },
  {
   "cell_type": "code",
   "execution_count": null,
   "metadata": {
    "deletable": false,
    "editable": false,
    "nbgrader": {
     "cell_type": "code",
     "checksum": "8bc305952f578108a731527cb9ec7ef0",
     "grade": true,
     "grade_id": "cell-fd03c70f09c2d656",
     "locked": true,
     "points": 1,
     "schema_version": 3,
     "solution": false,
     "task": false
    }
   },
   "outputs": [],
   "source": [
    "emptyG = nx.empty_graph(10)\n",
    "vecs, vals = eig_laplacian(emptyG)\n",
    "assert vecs.sum() == 10\n",
    "assert vals.sum() == 0\n",
    "oneedgeG = nx.empty_graph(10)\n",
    "oneedgeG.add_edge(0, 1)\n",
    "vecs, vals = eig_laplacian(oneedgeG)\n",
    "assert round(vecs[0, -1], 4) == 0.7071\n",
    "assert vals[0] < vals[-1]\n",
    "vecs, vals = eig_laplacian(nx.complete_graph(10))\n",
    "assert (vals == vals.real).sum() == vals.shape[0]\n",
    "assert (vecs == vecs.real).sum() == vals.shape[0]**2"
   ]
  },
  {
   "cell_type": "markdown",
   "metadata": {},
   "source": [
    "There are a few auxiliary methods for graph generation."
   ]
  },
  {
   "cell_type": "code",
   "execution_count": null,
   "metadata": {},
   "outputs": [],
   "source": [
    "def ring_lattice(n, k):\n",
    "    G = nx.Graph()\n",
    "    nodes = list(range(n))\n",
    "    for i in range(1, int(k/2 + 1)):\n",
    "        targets = nodes[i:] + nodes[:i]\n",
    "        G.add_edges_from(zip(nodes, targets))\n",
    "    return G"
   ]
  },
  {
   "cell_type": "code",
   "execution_count": null,
   "metadata": {},
   "outputs": [],
   "source": [
    "def pair_graph(n):\n",
    "    G = nx.disjoint_union(nx.complete_graph(n), nx.complete_graph(n))\n",
    "    G.add_edge(0, n)\n",
    "    return G"
   ]
  },
  {
   "cell_type": "code",
   "execution_count": null,
   "metadata": {},
   "outputs": [],
   "source": [
    "def triple_graph(n):\n",
    "    G = nx.disjoint_union_all(\n",
    "        [nx.complete_graph(n), nx.complete_graph(n), nx.complete_graph(n)]\n",
    "    )\n",
    "    G.add_edge(0, n)\n",
    "    G.add_edge(n, n*2)\n",
    "    G.add_edge(n*2, 0)\n",
    "    return G"
   ]
  },
  {
   "cell_type": "markdown",
   "metadata": {},
   "source": [
    "Consider some simple graphs and their Laplacian eigenvalues."
   ]
  },
  {
   "cell_type": "code",
   "execution_count": null,
   "metadata": {},
   "outputs": [],
   "source": [
    "cases = []\n",
    "cases.append([emptyG, 'Empty graph', nx.draw_circular])\n",
    "cases.append([nx.complete_graph(10), 'Complete graph', nx.draw_circular])\n",
    "cases.append([ring_lattice(10, 2), 'Ring lattice', nx.draw_circular])\n",
    "cases.append([oneedgeG, 'Single edge', nx.draw_circular])\n",
    "cases.append([pair_graph(5), 'Pair of complete graphs', nx.draw_kamada_kawai])\n",
    "cases.append([triple_graph(5), 'Triple of complete graphs', nx.draw_kamada_kawai])\n",
    "\n",
    "plt.figure(figsize=(5*2, 5*6))\n",
    "i = 1\n",
    "for iterG, title, designer in cases:\n",
    "    plt.subplot(6, 2, i)\n",
    "    i += 1\n",
    "    designer(iterG, \n",
    "             node_color='tab:cyan', \n",
    "             edgecolors='black', \n",
    "             node_size=100)\n",
    "    plt.title(title)\n",
    "    plt.subplot(6, 2, i)\n",
    "    i += 1\n",
    "    vecs, vals = eig_laplacian(iterG)\n",
    "    plt.scatter(np.arange(1, len(iterG) + 1), vals)\n",
    "    plt.grid()\n",
    "    plt.title('Ordered Laplacian eigenvalues')"
   ]
  },
  {
   "cell_type": "markdown",
   "metadata": {},
   "source": [
    "We can observe that a number of zero eigenvalues is a number of connected component. $\\lambda_2 = n$ in a complete graph. Also, the largest gap between eigenvalues indicates an optimal number of clusters. For example, the largest gap in a complete graph is between 1 and 2, then an optimal number of clusters is 1. Similarly, 2-3 gap is related to a pair graph, and 3-4 gap is related to a triple graph."
   ]
  },
  {
   "cell_type": "markdown",
   "metadata": {},
   "source": [
    "### Task 6. Spectral clustering (2 points)\n",
    "\n",
    "Spectral clustering is a very powerful algorithm for community detection that minimize graph cuts. It is based on Laplacian eigenvectors, in particular a sign of the second smallest eigenvector determines the partition of a graph into two clusters. Consider the following artificial dataset."
   ]
  },
  {
   "cell_type": "code",
   "execution_count": null,
   "metadata": {},
   "outputs": [],
   "source": [
    "circles, truth_labels = datasets.make_circles(n_samples=300, factor=0.6, \n",
    "                                              noise=0.05, random_state=0)\n",
    "plt.figure(figsize=(6, 6))\n",
    "plt.scatter(circles[:, 0], circles[:, 1])\n",
    "plt.show()"
   ]
  },
  {
   "cell_type": "markdown",
   "metadata": {},
   "source": [
    "Let us isolate data points in center circle using spectral clustering. Any distance based dataset can be represented as a graph with edges between neighbors.\n",
    "\n",
    "Write a function `custom_graph` that takes a np.array with x-y data points and returns a connected graph. \n",
    "\n",
    "_Hint: try to apply `sklearn.neighbors.kneighbors_graph`._\n",
    "\n",
    "_Remark: you can introduce your own distance if your features are categorical using one-hot encoding and other techniques._"
   ]
  },
  {
   "cell_type": "code",
   "execution_count": null,
   "metadata": {
    "deletable": false,
    "nbgrader": {
     "cell_type": "code",
     "checksum": "49e30600afef1d7ade56b47134b59326",
     "grade": false,
     "grade_id": "cell-d40266c883f9c15b",
     "locked": false,
     "schema_version": 3,
     "solution": true,
     "task": false
    }
   },
   "outputs": [],
   "source": [
    "def custom_graph(data):\n",
    "    # YOUR CODE HERE\n",
    "    raise NotImplementedError()"
   ]
  },
  {
   "cell_type": "code",
   "execution_count": null,
   "metadata": {
    "deletable": false,
    "editable": false,
    "nbgrader": {
     "cell_type": "code",
     "checksum": "96943ea349c6f22435e55a00a68a158e",
     "grade": true,
     "grade_id": "cell-64aedbe28b2b9b7d",
     "locked": true,
     "points": 0.5,
     "schema_version": 3,
     "solution": false,
     "task": false
    }
   },
   "outputs": [],
   "source": [
    "circles, truth_labels = datasets.make_circles(n_samples=300, factor=0.6, \n",
    "                                              noise=0.05, random_state=0)\n",
    "circlesG = custom_graph(circles)\n",
    "assert circlesG.number_of_nodes() == 300\n",
    "assert nx.is_connected(circlesG)"
   ]
  },
  {
   "cell_type": "markdown",
   "metadata": {},
   "source": [
    "Let us draw values in second smallest eigenvector of Laplacian."
   ]
  },
  {
   "cell_type": "code",
   "execution_count": null,
   "metadata": {},
   "outputs": [],
   "source": [
    "vecs, vals = eig_laplacian(circlesG)\n",
    "\n",
    "plt.figure(figsize=(8, 5))\n",
    "plt.scatter(np.arange(300), vecs[:, 1], s=10)\n",
    "plt.title('Second smallest eigenvector')\n",
    "plt.xlabel('Data point')\n",
    "plt.ylabel('Value')\n",
    "plt.grid()\n",
    "plt.show()"
   ]
  },
  {
   "cell_type": "markdown",
   "metadata": {},
   "source": [
    "Next, write a function `spectral_two_clusters` that takes np.array with ordered eigenvectors and returns np.array with labels of nodes."
   ]
  },
  {
   "cell_type": "code",
   "execution_count": null,
   "metadata": {
    "deletable": false,
    "nbgrader": {
     "cell_type": "code",
     "checksum": "d0bcce8de4c76511ba5efaf656dd6533",
     "grade": false,
     "grade_id": "cell-ca439ffb4eb0df3c",
     "locked": false,
     "schema_version": 3,
     "solution": true,
     "task": false
    }
   },
   "outputs": [],
   "source": [
    "def spectral_two_clusters(vecs):\n",
    "    # YOUR CODE HERE\n",
    "    raise NotImplementedError()"
   ]
  },
  {
   "cell_type": "code",
   "execution_count": null,
   "metadata": {
    "deletable": false,
    "editable": false,
    "nbgrader": {
     "cell_type": "code",
     "checksum": "c42e9b1e1ef1b683c3d5f7ec31556ac9",
     "grade": true,
     "grade_id": "cell-6b01f513f5380c76",
     "locked": true,
     "points": 0.5,
     "schema_version": 3,
     "solution": false,
     "task": false
    }
   },
   "outputs": [],
   "source": [
    "circles, truth_labels = datasets.make_circles(n_samples=300, factor=0.6, \n",
    "                                              noise=0.05, random_state=0)\n",
    "circlesG = custom_graph(circles)\n",
    "vecs, vals = eig_laplacian(circlesG)\n",
    "labels = spectral_two_clusters(vecs)\n",
    "\n",
    "assert abs(np.corrcoef(truth_labels, labels)[0, 1]) > 0.95\n",
    "\n",
    "plt.figure(figsize=(6, 6))\n",
    "plt.scatter(circles[:, 0], circles[:, 1], c=labels)\n",
    "plt.title('Correlation: {:.2f}'.format(abs(np.corrcoef(truth_labels, labels)[0, 1])))\n",
    "plt.show()"
   ]
  },
  {
   "cell_type": "markdown",
   "metadata": {},
   "source": [
    "_Remark: there are two directions of graph construction: selection pairs of nodes to connect to each other, and choosing the weights of created edges. Set `factor=0.7` in `datasets.make_circles` and test yourself — try to achive 0.9 correlation. Combine `sklearn.neighbors.kneighbors_graph` with `scipy.spatial.distance_matrix` or `sklearn.metrics.pairwise.rbf_kernel`. Details are [here](http://www2.imm.dtu.dk/projects/manifold/Papers/Laplacian.pdf)._"
   ]
  },
  {
   "cell_type": "markdown",
   "metadata": {},
   "source": [
    "Let us build a simple graph and then implement spectral clustering."
   ]
  },
  {
   "cell_type": "code",
   "execution_count": null,
   "metadata": {},
   "outputs": [],
   "source": [
    "quadG = nx.disjoint_union_all([nx.complete_graph(5), \n",
    "                               nx.complete_graph(5),\n",
    "                               nx.complete_graph(5),\n",
    "                               nx.complete_graph(5)])\n",
    "quadG.add_edge(0, 5)\n",
    "quadG.add_edge(6, 10)\n",
    "quadG.add_edge(11, 16)\n",
    "quadG.add_edge(17, 1)\n",
    "\n",
    "plt.figure(figsize=(5, 5))\n",
    "nx.draw_kamada_kawai(\n",
    "    quadG, \n",
    "    node_color='white', \n",
    "    edgecolors='black', \n",
    "    node_size=100)"
   ]
  },
  {
   "cell_type": "markdown",
   "metadata": {},
   "source": [
    "Further splitting can be performed by different approaches. For example, we can repeat the clustering procedure on the both subgraphs separetely and choose a minimal graph cut and then repeat it again. Another way is to apply Laplacian Eigenmaps and then KMeans. Let us consider how it works.\n",
    "\n",
    "1. Compute normalized Laplacian\n",
    "$$L = D^{-1/2}(D - A)D^{-1/2}$$\n",
    "2. Stack eigenvectors of the smallest eigenvalues of $L$ into the matrix $X = (x_1, x_2, \\dots)$\n",
    "3. Multiply i-th row by $\\frac{1}{\\sqrt{d_i}}$ where $d_i$ is a node degree\n",
    "* $k$ vectors of $X$ starting from the second one is _Laplacian Eigenmaps (Spectral Embedding)_\n",
    "4. Put eigenmaps into KMeans\n",
    "5. Label nodes by fitted KMeans"
   ]
  },
  {
   "cell_type": "markdown",
   "metadata": {},
   "source": [
    "Write a function `norm_laplacian` that takes an adjacency matrix `A` and returns a tuple with 2 np.arrays. The first is a normalized Laplacian, the second is a degree sequence."
   ]
  },
  {
   "cell_type": "code",
   "execution_count": null,
   "metadata": {
    "deletable": false,
    "nbgrader": {
     "cell_type": "code",
     "checksum": "8860c72d586b216b03d2028588fef600",
     "grade": false,
     "grade_id": "cell-835877a10376c87b",
     "locked": false,
     "schema_version": 3,
     "solution": true,
     "task": false
    }
   },
   "outputs": [],
   "source": [
    "def norm_laplacian(A):\n",
    "    # YOUR CODE HERE\n",
    "    raise NotImplementedError()"
   ]
  },
  {
   "cell_type": "code",
   "execution_count": null,
   "metadata": {
    "deletable": false,
    "editable": false,
    "nbgrader": {
     "cell_type": "code",
     "checksum": "f686e3fd4c4155611dfed8d4a78e004b",
     "grade": true,
     "grade_id": "cell-0cf12928f9a5a348",
     "locked": true,
     "points": 0.5,
     "schema_version": 3,
     "solution": false,
     "task": false
    }
   },
   "outputs": [],
   "source": [
    "A = nx.to_numpy_array(quadG)\n",
    "L, degree_seq = norm_laplacian(A)\n",
    "assert degree_seq.shape == (20, )\n",
    "assert L.shape == (20, 20)\n",
    "assert np.diagonal(L).sum() == 20\n",
    "assert round(L[:, 2].sum(), 4) == 0.0528"
   ]
  },
  {
   "cell_type": "markdown",
   "metadata": {},
   "source": [
    "Write a function `spectral_embedding` that takes np.array with normalized Laplacian, np.arrays with degree sequence and returns np.array with Laplacian Eigenmaps. `n_components` is a number of vectors of the output."
   ]
  },
  {
   "cell_type": "code",
   "execution_count": null,
   "metadata": {
    "deletable": false,
    "nbgrader": {
     "cell_type": "code",
     "checksum": "beb974553ae260f809144771d43c94ae",
     "grade": false,
     "grade_id": "cell-3ff904d602d33bc1",
     "locked": false,
     "schema_version": 3,
     "solution": true,
     "task": false
    }
   },
   "outputs": [],
   "source": [
    "def spectral_embedding(L, degree_seq, n_components):\n",
    "    # YOUR CODE HERE\n",
    "    raise NotImplementedError()"
   ]
  },
  {
   "cell_type": "code",
   "execution_count": null,
   "metadata": {
    "deletable": false,
    "editable": false,
    "nbgrader": {
     "cell_type": "code",
     "checksum": "f623decfa8ae6a5aa7c9f7866ceeced5",
     "grade": true,
     "grade_id": "cell-798cee725cdd54c1",
     "locked": true,
     "points": 0.5,
     "schema_version": 3,
     "solution": false,
     "task": false
    }
   },
   "outputs": [],
   "source": [
    "embedding = spectral_embedding(L, degree_seq, 3)\n",
    "assert embedding.shape == (20, 3)\n",
    "assert embedding[:, 0].max() > 0\n",
    "assert embedding[:, 0].min() < 0\n",
    "assert embedding[:, 1].max() > 0\n",
    "assert embedding[:, 1].min() < 0\n",
    "assert (embedding[:, 0] > 0).sum() == 10\n",
    "assert (embedding[:, 1] > 0).sum() == 10\n",
    "assert (embedding[:, 2] > 0).sum() == 10"
   ]
  },
  {
   "cell_type": "markdown",
   "metadata": {},
   "source": [
    "Let us look at a pairplot of the spectral embedding."
   ]
  },
  {
   "cell_type": "code",
   "execution_count": null,
   "metadata": {
    "deletable": false,
    "editable": false,
    "nbgrader": {
     "cell_type": "code",
     "checksum": "f7630fa781779881519d565799c2b8cc",
     "grade": false,
     "grade_id": "cell-682a760a2b70452c",
     "locked": true,
     "schema_version": 3,
     "solution": false,
     "task": false
    }
   },
   "outputs": [],
   "source": [
    "def spectral_clustering(G, n_clusters, n_components):\n",
    "    A = nx.to_numpy_array(G)\n",
    "    L, degree_seq = norm_laplacian(A)\n",
    "    embedding = spectral_embedding(L, degree_seq, n_components)\n",
    "    kmeans = KMeans(n_clusters=n_clusters)\n",
    "    kmeans.fit(embedding)\n",
    "    return kmeans.labels_"
   ]
  },
  {
   "cell_type": "code",
   "execution_count": null,
   "metadata": {},
   "outputs": [],
   "source": [
    "embedding = spectral_embedding(L, degree_seq, 3)\n",
    "labels = spectral_clustering(quadG, 4, 3)\n",
    "p = sns.pairplot(\n",
    "    pd.DataFrame(\n",
    "        np.hstack([embedding, labels[:, None]]), \n",
    "        columns=['x2', 'x3', 'x4', 'label']),\n",
    "    hue='label',\n",
    "    diag_kind=None\n",
    ")\n",
    "p._legend.remove()\n",
    "plt.show()"
   ]
  },
  {
   "cell_type": "markdown",
   "metadata": {},
   "source": [
    "We can see four distinct clusters in the plots, that is why we use KMeans, but other clustering algorithms can also be applied here."
   ]
  },
  {
   "cell_type": "code",
   "execution_count": null,
   "metadata": {},
   "outputs": [],
   "source": [
    "plt.figure(figsize=(5, 5))\n",
    "nx.draw_kamada_kawai(\n",
    "    quadG, \n",
    "    cmap=plt.cm.rainbow,\n",
    "    node_color=labels, \n",
    "    edgecolors='black', \n",
    "    node_size=100)"
   ]
  },
  {
   "cell_type": "markdown",
   "metadata": {},
   "source": [
    "Finally, let us see how spectral clustering works on the Les Miserables graph."
   ]
  },
  {
   "cell_type": "code",
   "execution_count": null,
   "metadata": {},
   "outputs": [],
   "source": [
    "plt.figure(figsize=(8, 8))\n",
    "nodes = nx.draw_networkx_nodes(\n",
    "    G, \n",
    "    pos,\n",
    "    cmap=plt.cm.rainbow,\n",
    "    node_color=spectral_clustering(G, 6, 5), \n",
    "    node_size=100, \n",
    "    linewidths=1, \n",
    "    edgecolors='black'\n",
    ")\n",
    "nx.draw_networkx_edges(\n",
    "    G,\n",
    "    pos,\n",
    "    alpha=0.2,\n",
    "    edge_color='black'\n",
    ")\n",
    "plt.axis('off')\n",
    "plt.legend(*nodes.legend_elements())\n",
    "plt.show()"
   ]
  },
  {
   "cell_type": "markdown",
   "metadata": {},
   "source": [
    "### Task 7. Louvain method, fast unfolding (2 points)\n",
    "\n",
    "Consider another community detection technique — fast unfolding. Do it on a fractal graph that can represent some biological structure. There is a method to generation this graph."
   ]
  },
  {
   "cell_type": "code",
   "execution_count": null,
   "metadata": {},
   "outputs": [],
   "source": [
    "def fractal_graph(n, k, G):\n",
    "    if k == 0:\n",
    "        return G\n",
    "    for node in list(G.nodes):\n",
    "        newG = nx.complete_graph(n)\n",
    "        newG = nx.relabel_nodes(newG, {node:max(G.nodes)+node+1 for node in newG.nodes})\n",
    "        G = nx.union(G, newG)\n",
    "        for edge in G.edges(node):\n",
    "            G.add_edge(list(G.nodes)[-1], edge[1])\n",
    "        G.remove_node(node)\n",
    "    return fractal_graph(n, k-1, G)"
   ]
  },
  {
   "cell_type": "code",
   "execution_count": null,
   "metadata": {},
   "outputs": [],
   "source": [
    "n = 4\n",
    "fractalG = fractal_graph(n, 3, nx.complete_graph(n))\n",
    "\n",
    "plt.figure(figsize=(8, 8))\n",
    "frac_pos = nx.kamada_kawai_layout(fractalG)\n",
    "nx.draw_networkx_nodes(fractalG, frac_pos, node_color='white', \n",
    "                       edgecolors='black', node_size=100)\n",
    "nx.draw_networkx_edges(fractalG, frac_pos, alpha=0.3)\n",
    "plt.axis('off')\n",
    "plt.show()"
   ]
  },
  {
   "cell_type": "markdown",
   "metadata": {},
   "source": [
    "Fast unfolding is a greedy algorithm that is described as: \n",
    "\n",
    "Phase 1\n",
    "1. For every single node evaluate modularity gain from removing node from its community and placing it in the community of its neighbor\n",
    "2. Place node in the community maximizing modularity gain\n",
    "3. Repeat until no more improvement\n",
    "\n",
    "Phase 2\n",
    "1. Nodes from communities merged into ”super nodes”\n",
    "2. Weight on the links added up\n",
    "\n",
    "Repeat phases 1, 2 until no more changes."
   ]
  },
  {
   "cell_type": "code",
   "execution_count": null,
   "metadata": {
    "deletable": false,
    "editable": false,
    "nbgrader": {
     "cell_type": "code",
     "checksum": "a67d007d6362af90f0e5443fffe12738",
     "grade": false,
     "grade_id": "cell-5b8fbcfc7ef7cb86",
     "locked": true,
     "schema_version": 3,
     "solution": false,
     "task": false
    }
   },
   "outputs": [],
   "source": [
    "def fast_unfolding(G):\n",
    "    \n",
    "    # Phase 1\n",
    "    communities = unfolded_communities(G)\n",
    "    labels = []\n",
    "    for node in G.nodes:\n",
    "        for i, c in enumerate(communities):\n",
    "            if node in c:\n",
    "                labels.append(i)\n",
    "    \n",
    "    # Phase 2\n",
    "    nextG = nx.empty_graph(len(communities), nx.MultiGraph)\n",
    "    for e in G.edges:\n",
    "        for i in range(len(communities)):\n",
    "            for j in range(len(communities)):\n",
    "                if e[0] in communities[i] and e[1] in communities[j]:\n",
    "                    nextG.add_edge(i, j)\n",
    "    \n",
    "    return communities, labels, nextG"
   ]
  },
  {
   "cell_type": "markdown",
   "metadata": {},
   "source": [
    "Write a function `unfolded_communities` that takes a graph, performs Phase 1 and returns np.array of communities with nodes. For example, if there are two communitites: the first is [1,2] and the second is [3,4,5] then the output will be [[1,2],[3,4,5]]."
   ]
  },
  {
   "cell_type": "code",
   "execution_count": null,
   "metadata": {
    "deletable": false,
    "nbgrader": {
     "cell_type": "code",
     "checksum": "f95ec067bf4835d09b51999b49f11deb",
     "grade": false,
     "grade_id": "cell-d655730729237b64",
     "locked": false,
     "schema_version": 3,
     "solution": true,
     "task": false
    }
   },
   "outputs": [],
   "source": [
    "def unfolded_communities(G):\n",
    "    # YOUR CODE HERE\n",
    "    raise NotImplementedError()"
   ]
  },
  {
   "cell_type": "code",
   "execution_count": null,
   "metadata": {
    "deletable": false,
    "editable": false,
    "nbgrader": {
     "cell_type": "code",
     "checksum": "4d72700a62cc35ed73666b35c1142313",
     "grade": true,
     "grade_id": "cell-848211453ab8cd9f",
     "locked": true,
     "points": 2,
     "schema_version": 3,
     "solution": false,
     "task": false
    }
   },
   "outputs": [],
   "source": [
    "n = 4\n",
    "fractalG = fractal_graph(n, 2, nx.complete_graph(n))\n",
    "iterG = fractalG.copy()\n",
    "communities, labels, nextG = fast_unfolding(iterG)\n",
    "\n",
    "assert len(set(labels)) == 16\n",
    "assert len(set(labels[52:56])) == 1\n",
    "assert len(set(labels[52:57])) == 2\n",
    "assert nextG.number_of_nodes() == 16\n",
    "assert round(np.linalg.det(nx.to_numpy_array(nextG)) * 1e-10, 4) == 136.5257"
   ]
  },
  {
   "cell_type": "markdown",
   "metadata": {},
   "source": [
    "Let us see unfolding iterations. For every iteration we draw a graph where node color corresponds to the unfolded community."
   ]
  },
  {
   "cell_type": "code",
   "execution_count": null,
   "metadata": {},
   "outputs": [],
   "source": [
    "n = 4\n",
    "fractalG = fractal_graph(n, 3, nx.complete_graph(n))\n",
    "iterG = fractalG\n",
    "\n",
    "plt.figure(figsize=(7, 7*3))\n",
    "\n",
    "for i in range(3):\n",
    "    plt.subplot(3, 1, i+1)\n",
    "    communities, labels, nextG = fast_unfolding(iterG)\n",
    "    iter_pos = nx.kamada_kawai_layout(iterG)\n",
    "    nodes = nx.draw_networkx_nodes(\n",
    "        iterG,\n",
    "        iter_pos,\n",
    "        cmap=plt.cm.rainbow,\n",
    "        node_color=labels,\n",
    "        edgecolors='black',\n",
    "        node_size=100\n",
    "    )\n",
    "    nx.draw_networkx_edges(\n",
    "        iterG,\n",
    "        iter_pos,\n",
    "        alpha=0.3,\n",
    "        node_size=100\n",
    "    )\n",
    "    plt.axis('off')\n",
    "    plt.title(\n",
    "        '{} nodes, {} communities \\nModularity {:.2f}'.format(\n",
    "            len(iterG), len(communities), nx.community.modularity(iterG, communities)\n",
    "        )\n",
    "    )\n",
    "    iterG = nextG"
   ]
  },
  {
   "cell_type": "markdown",
   "metadata": {},
   "source": [
    "We can see that there is no need to run more iterations, because the number of communities is no longer decreasing."
   ]
  },
  {
   "cell_type": "markdown",
   "metadata": {},
   "source": [
    "### Task 8. Agglomerative clustering (1 point)\n",
    "\n",
    "Agglomerative clustering is an iterative procedure that unions similar clusters using a similarity matrix, but since we will run `sklearn.cluster.AgglomerativeClustering`, we need to pass a _distance_ matrix. So, first we need to choose a similarity measure and then convert it into a distance. Let us do it via SimRank measure that is defined as follows: _two objects are considered to be similar if they are referenced by similar objects_. Since SimRank takes values on the interval [0, 1], let us define a distance as\n",
    "\n",
    "$$\\text{Distance}= 1 - \\text{SimRank}$$\n",
    "\n",
    "Write a function `simrank_distance` that takes a graph and returns a distance matrix based on SimRank. Use `nx.simrank_similarity_numpy`. The distance matrix should be _absolutely_ symmetric."
   ]
  },
  {
   "cell_type": "code",
   "execution_count": null,
   "metadata": {
    "deletable": false,
    "nbgrader": {
     "cell_type": "code",
     "checksum": "9a7a5a98d72e0f7fe6dd9abfb69ca828",
     "grade": false,
     "grade_id": "cell-3e562ed2f306eb66",
     "locked": false,
     "schema_version": 3,
     "solution": true,
     "task": false
    }
   },
   "outputs": [],
   "source": [
    "def simrank_distance(G):\n",
    "    # YOUR CODE HERE\n",
    "    raise NotImplementedError()"
   ]
  },
  {
   "cell_type": "code",
   "execution_count": null,
   "metadata": {
    "deletable": false,
    "editable": false,
    "nbgrader": {
     "cell_type": "code",
     "checksum": "eab26ff6a379f10000915be8379fed9c",
     "grade": true,
     "grade_id": "cell-48d3f5c5f233d84c",
     "locked": true,
     "points": 0.5,
     "schema_version": 3,
     "solution": false,
     "task": false
    }
   },
   "outputs": [],
   "source": [
    "distance = simrank_distance(G)\n",
    "assert distance.shape == (77, 77)\n",
    "assert np.diagonal(distance).sum() == 0\n",
    "assert np.allclose(distance, distance.T, rtol=0, atol=0)\n",
    "assert distance[52, 68] <= distance[1, 19]\n",
    "assert distance[45, 29] <= distance[38, 46]"
   ]
  },
  {
   "cell_type": "markdown",
   "metadata": {},
   "source": [
    "Then let us cluster nodes using `scipy.cluster.hierarchy.linkage`. The method takes distancies and returns an np.array with a matrix `Z` where every i-th row consists of\n",
    "* `Z[i, 0]` and `Z[i, 1]` are indexes of combined clusters\n",
    "* `Z[i, 2]` is the distance between combined clusters\n",
    "* `Z[i, 3]` is the number of observations in combined clusters\n",
    "\n",
    "Cluster with an index `n+i` is described in a i-th row of the matrix `Z`. Clusters with indexes less than `n+1` are initial nodes. The method `scipy.cluster.hierarchy.dendrogram` uses the matrix `Z` to plot a dendrogram. Let us look at a dendrogram of Les Miserables graph."
   ]
  },
  {
   "cell_type": "code",
   "execution_count": null,
   "metadata": {},
   "outputs": [],
   "source": [
    "plt.figure(figsize=(16, 6))\n",
    "linked = linkage(squareform(distance), 'complete')\n",
    "dendrogram(linked, labels=list(G.nodes), \n",
    "           leaf_font_size=12)\n",
    "plt.plot([0, 800], [0.89, 0.89], 'k--', c='tab:red')\n",
    "plt.show()"
   ]
  },
  {
   "cell_type": "markdown",
   "metadata": {},
   "source": [
    "Then we need to select a horizontal line that gives us a partitioning of the graph. There are two approaches: select the number of clusters, and select the maximal distance between clusters. For example, if we select a horizontal line with maximal distance 0.89 (a red line on the plot) then the number of clusters will be 4.\n",
    "\n",
    "Write a function `agglomerative_clustering` that takes a distance matrix, maximal distance between clusters and returns a np.array with labels of clusters. Use `sklearn.cluster.AgglomerativeClustering` with complete linkage."
   ]
  },
  {
   "cell_type": "code",
   "execution_count": null,
   "metadata": {
    "deletable": false,
    "nbgrader": {
     "cell_type": "code",
     "checksum": "73dbc85d495a7b32523d7cc53961a725",
     "grade": false,
     "grade_id": "cell-0e16f6f2d6e0fbbf",
     "locked": false,
     "schema_version": 3,
     "solution": true,
     "task": false
    }
   },
   "outputs": [],
   "source": [
    "def agglomerative_clustering(distance, max_distance):\n",
    "    # YOUR CODE HERE\n",
    "    raise NotImplementedError()"
   ]
  },
  {
   "cell_type": "code",
   "execution_count": null,
   "metadata": {
    "deletable": false,
    "editable": false,
    "nbgrader": {
     "cell_type": "code",
     "checksum": "febd3996422e20c4c4cc84756e40cbdd",
     "grade": true,
     "grade_id": "cell-a35a60118c1e0e83",
     "locked": true,
     "points": 0.5,
     "schema_version": 3,
     "solution": false,
     "task": false
    }
   },
   "outputs": [],
   "source": [
    "assert len(set(agglomerative_clustering(distance, 0.8))) == 17\n",
    "assert len(set(agglomerative_clustering(distance, 0.89))) == 4"
   ]
  },
  {
   "cell_type": "markdown",
   "metadata": {},
   "source": [
    "On the graph with maximal distance 0.89"
   ]
  },
  {
   "cell_type": "code",
   "execution_count": null,
   "metadata": {},
   "outputs": [],
   "source": [
    "labels = agglomerative_clustering(distance, 0.89)\n",
    "plt.figure(figsize=(8, 8))\n",
    "nx.draw_networkx_nodes(\n",
    "    G, \n",
    "    pos,\n",
    "    cmap=plt.cm.rainbow,\n",
    "    node_color=labels, \n",
    "    node_size=100, \n",
    "    linewidths=1, \n",
    "    edgecolors='black'\n",
    ")\n",
    "nx.draw_networkx_edges(\n",
    "    G,\n",
    "    pos,\n",
    "    alpha=0.2,\n",
    "    edge_color='black'\n",
    ")\n",
    "plt.axis('off')\n",
    "plt.show()"
   ]
  },
  {
   "cell_type": "code",
   "execution_count": null,
   "metadata": {},
   "outputs": [],
   "source": []
  }
 ],
 "metadata": {
  "kernelspec": {
   "display_name": "Python 3",
   "language": "python",
   "name": "python3"
  },
  "language_info": {
   "codemirror_mode": {
    "name": "ipython",
    "version": 3
   },
   "file_extension": ".py",
   "mimetype": "text/x-python",
   "name": "python",
   "nbconvert_exporter": "python",
   "pygments_lexer": "ipython3",
   "version": "3.7.4-final"
  }
 },
 "nbformat": 4,
 "nbformat_minor": 4
}
