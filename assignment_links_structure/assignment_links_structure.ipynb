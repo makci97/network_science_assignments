{
 "cells": [
  {
   "cell_type": "markdown",
   "metadata": {},
   "source": [
    "# Practical Assignment — Links analysis and structure"
   ]
  },
  {
   "cell_type": "code",
   "execution_count": null,
   "metadata": {},
   "outputs": [],
   "source": [
    "import numpy as np\n",
    "import networkx as nx\n",
    "import matplotlib.pyplot as plt\n",
    "import pandas as pd\n",
    "from sklearn.metrics.pairwise import cosine_similarity\n",
    "from scipy.sparse.csgraph import reverse_cuthill_mckee\n",
    "from scipy.sparse import csr_matrix\n",
    "import requests\n",
    "import seaborn as sns"
   ]
  },
  {
   "cell_type": "markdown",
   "metadata": {},
   "source": [
    "Consider ranking of Zachary's Karate Club members. Load the graph from networkx."
   ]
  },
  {
   "cell_type": "code",
   "execution_count": null,
   "metadata": {},
   "outputs": [],
   "source": [
    "G = nx.karate_club_graph()\n",
    "nx.draw(G, edgecolors='black')"
   ]
  },
  {
   "cell_type": "markdown",
   "metadata": {},
   "source": [
    "### Task 1. PageRank calculation (1.5 points)\n",
    "\n",
    "Implement PageRank algorithm. A function `page_rank` takes a graph `G`, teleportation coefficient `alpha` and number of iterations `k`. The function returns np.array of PageRank scores.\n"
   ]
  },
  {
   "cell_type": "code",
   "execution_count": null,
   "metadata": {
    "deletable": false,
    "editable": false,
    "nbgrader": {
     "cell_type": "code",
     "checksum": "6412a07f9856a6c36da608f3ee413c8b",
     "grade": false,
     "grade_id": "cell-03522d80086a8dd6",
     "locked": true,
     "schema_version": 3,
     "solution": false,
     "task": false
    }
   },
   "outputs": [],
   "source": [
    "'''Do not touch the cell'''\n",
    "def page_rank(G, alpha, k):\n",
    "    A = nx.to_numpy_array(G)\n",
    "    P = transition_matrix(A)\n",
    "    v = teleportation_vector(A)\n",
    "    rank = np.ones(A.shape[0]) / A.shape[0]\n",
    "    for _ in range(k):\n",
    "        rank = update_rank(rank, P, v, alpha)\n",
    "    return np.array(rank)"
   ]
  },
  {
   "cell_type": "markdown",
   "metadata": {},
   "source": [
    "Write a function `transition_matrix` that takes a np.array with an adjacency matrix `A` and returns a np.array with a transition matrix where an entry $p_{ij}$ equals to probability of going to $j$ if we are in $i$."
   ]
  },
  {
   "cell_type": "code",
   "execution_count": null,
   "metadata": {
    "deletable": false,
    "nbgrader": {
     "cell_type": "code",
     "checksum": "41fabd4dacdb93925ce7d57242c12fad",
     "grade": false,
     "grade_id": "cell-8fd0d5cff01278ae",
     "locked": false,
     "schema_version": 3,
     "solution": true,
     "task": false
    }
   },
   "outputs": [],
   "source": [
    "def transition_matrix(A):\n",
    "    # YOUR CODE HERE\n",
    "    raise NotImplementedError()"
   ]
  },
  {
   "cell_type": "code",
   "execution_count": null,
   "metadata": {
    "deletable": false,
    "editable": false,
    "nbgrader": {
     "cell_type": "code",
     "checksum": "611f894ba63fb26f2551ffdf3ac8a1ae",
     "grade": true,
     "grade_id": "cell-d01ac29b194c8d66",
     "locked": true,
     "points": 0.5,
     "schema_version": 3,
     "solution": false,
     "task": false
    }
   },
   "outputs": [],
   "source": [
    "A = [[0, 1, 1], # probability P(0→1) = P(0→2) = 1/2\n",
    "     [0, 0, 1], # probability P(1→2) = 1\n",
    "     [1, 0, 0]] # probability P(2→0) = 1\n",
    "A = np.array(A)\n",
    "tran_sum = transition_matrix(A).sum(axis=1)\n",
    "assert tran_sum[0] == tran_sum[1] == tran_sum[2] == 1\n",
    "A = nx.to_numpy_array(G)\n",
    "assert transition_matrix(A)[0, 1] == 0.0625\n",
    "assert round(transition_matrix(A)[1, 0], 4) == 0.1111"
   ]
  },
  {
   "cell_type": "markdown",
   "metadata": {},
   "source": [
    "Write a function `teleportation_vector` that takes a np.array with an adjacency matrix `A` and returns a np.array with a teleportation vector where $p_i$ is a probability to teleport to a node $i$ (by default it is a uniform distribution)."
   ]
  },
  {
   "cell_type": "code",
   "execution_count": null,
   "metadata": {
    "deletable": false,
    "nbgrader": {
     "cell_type": "code",
     "checksum": "c51d5421bb76304666a90ab8b03f5cb1",
     "grade": false,
     "grade_id": "cell-f0bcf9124c0d7bdd",
     "locked": false,
     "schema_version": 3,
     "solution": true,
     "task": false
    }
   },
   "outputs": [],
   "source": [
    "def teleportation_vector(A):\n",
    "    # YOUR CODE HERE\n",
    "    raise NotImplementedError()"
   ]
  },
  {
   "cell_type": "code",
   "execution_count": null,
   "metadata": {
    "deletable": false,
    "editable": false,
    "nbgrader": {
     "cell_type": "code",
     "checksum": "2117d1aefb1ef264fe92fd7a4465dda8",
     "grade": true,
     "grade_id": "cell-068e341ddd0332ba",
     "locked": true,
     "points": 0.5,
     "schema_version": 3,
     "solution": false,
     "task": false
    }
   },
   "outputs": [],
   "source": [
    "assert teleportation_vector(A).sum() == 1"
   ]
  },
  {
   "cell_type": "markdown",
   "metadata": {},
   "source": [
    "Write a function `update_rank`. Check the function `page_rank` to understand parameters. An iterative process is defined as\n",
    "\n",
    "$$\\begin{matrix}\n",
    "r &=& \\text{transition} &+& \\text{teleportation}\\\\\n",
    "r &=& \\alpha P^T r &+& (1 - \\alpha)v\n",
    "\\end{matrix}\n",
    "$$\n",
    "\n",
    "where $P$ is a transition matrix, $v$ is a teleportation vector."
   ]
  },
  {
   "cell_type": "code",
   "execution_count": null,
   "metadata": {
    "deletable": false,
    "nbgrader": {
     "cell_type": "code",
     "checksum": "85aa54e35aacb245aa55a8c731257fd4",
     "grade": false,
     "grade_id": "cell-c55a424a1ad9798a",
     "locked": false,
     "schema_version": 3,
     "solution": true,
     "task": false
    }
   },
   "outputs": [],
   "source": [
    "def update_rank(rank, P, v, alpha):\n",
    "    # YOUR CODE HERE\n",
    "    raise NotImplementedError()"
   ]
  },
  {
   "cell_type": "code",
   "execution_count": null,
   "metadata": {
    "deletable": false,
    "editable": false,
    "nbgrader": {
     "cell_type": "code",
     "checksum": "bdf34529af9bd21022e56989045284aa",
     "grade": true,
     "grade_id": "cell-ffacc690e8706a16",
     "locked": true,
     "points": 0.5,
     "schema_version": 3,
     "solution": false,
     "task": false
    }
   },
   "outputs": [],
   "source": [
    "assert page_rank(G, 0.8, 20).shape == (34, )\n",
    "assert page_rank(G, 0.8, 20).max() < 0.1\n",
    "assert round(page_rank(G, 0.8, 20).sum(), 4) == 1\n",
    "cases = [[0.9, 30], [0.7, 15], [0.1, 10]]\n",
    "for alpha, k in cases:\n",
    "    corr = np.corrcoef(\n",
    "        page_rank(G, alpha, k), \n",
    "        list(nx.pagerank(G, alpha=alpha, max_iter=k).values())\n",
    "    )[0, 1]\n",
    "    assert round(corr, 4) == 1"
   ]
  },
  {
   "cell_type": "markdown",
   "metadata": {},
   "source": [
    "Let us draw the graph where node size depends on PageRank."
   ]
  },
  {
   "cell_type": "code",
   "execution_count": null,
   "metadata": {},
   "outputs": [],
   "source": [
    "plt.figure(figsize=(14, 7))\n",
    "pos = nx.spring_layout(G)\n",
    "\n",
    "cases = [0.1, 0.9]\n",
    "\n",
    "for i, alpha in enumerate(cases):\n",
    "    plt.subplot(1, 2, i+1)\n",
    "    PR = page_rank(G, alpha, 10)\n",
    "    nx.draw(G, \n",
    "            pos,\n",
    "            width=0.5,\n",
    "            linewidths=0.5,\n",
    "            edgecolors='black',\n",
    "            cmap=plt.cm.hot,\n",
    "            node_size=PR*3e3,\n",
    "            node_color=PR)\n",
    "    plt.title('alpha is {}'.format(alpha))"
   ]
  },
  {
   "cell_type": "markdown",
   "metadata": {},
   "source": [
    "### Task 2. PageRank visualization (3 points)\n",
    "In this task we will visualize some properties of PageRank. First, we draw a plot where every line represents a PageRank of a node with respect to alpha while the number of iterations is fixed.\n",
    "\n",
    "Write a function `rank_matrix_by_alpha` that takes a graph `G`, np.array of `alphas`, number of iterations `k` and returns a matrix of PageRank scores where alphas are rows and nodes are columns."
   ]
  },
  {
   "cell_type": "code",
   "execution_count": null,
   "metadata": {
    "deletable": false,
    "nbgrader": {
     "cell_type": "code",
     "checksum": "0cf54545489af586684ad3c7941e5c8c",
     "grade": false,
     "grade_id": "cell-cb4d085a7e801d78",
     "locked": false,
     "schema_version": 3,
     "solution": true,
     "task": false
    }
   },
   "outputs": [],
   "source": [
    "def rank_matrix_by_alpha(G, alphas, k):\n",
    "    # YOUR CODE HERE\n",
    "    raise NotImplementedError()"
   ]
  },
  {
   "cell_type": "code",
   "execution_count": null,
   "metadata": {
    "deletable": false,
    "editable": false,
    "nbgrader": {
     "cell_type": "code",
     "checksum": "06fe8e9f6b1445620d7d538ce10c8767",
     "grade": true,
     "grade_id": "cell-55178fe3455bd1c8",
     "locked": true,
     "points": 0.75,
     "schema_version": 3,
     "solution": false,
     "task": false
    }
   },
   "outputs": [],
   "source": [
    "alpha_space = np.linspace(0.1, 0.95, 100)\n",
    "ranks = rank_matrix_by_alpha(G, alpha_space, 10)\n",
    "assert ranks.shape == (100, 34)\n",
    "assert ranks[0, 0] < ranks[-1, 0] < 0.11\n",
    "assert ranks[0, 7] > ranks[-1, 7] > 0.02"
   ]
  },
  {
   "cell_type": "markdown",
   "metadata": {},
   "source": [
    "Now write a function `node_color` that takes a `node` and np.array with PageRank scores `rank`. The length of `rank` is the number of nodes and `rank[node]` is a score of a node. Also here are two colors:\n",
    "* `start_rgb` — a np.array of RGB color [0-1, 0-1, 0-1]\n",
    "* `end_rgb` — a np.array of RGB color [0-1, 0-1, 0-1]\n",
    "\n",
    "The function is a linear mapping from an _index_ (not score) of a node in sorted PageRank to a RGB color, that is the lowest index is a start color and the largest index is an end color. \n",
    "\n",
    "_For example, if a start color is [1, 1, 1], end color is [0, 0, 0] and PageRank of nodes are_\n",
    "* 0: 0.1\n",
    "* 1: 0.2\n",
    "* 2: 0.7\n",
    "\n",
    "_then the mapping of node 1 will be [0.5, 0.5, 0.5]._\n",
    "\n",
    "The function returns a np.array of RGB color."
   ]
  },
  {
   "cell_type": "code",
   "execution_count": null,
   "metadata": {
    "deletable": false,
    "nbgrader": {
     "cell_type": "code",
     "checksum": "ec1643ce114dd933a6cf84cbfa82dec9",
     "grade": false,
     "grade_id": "cell-c73a7a18f2c05f9e",
     "locked": false,
     "schema_version": 3,
     "solution": true,
     "task": false
    }
   },
   "outputs": [],
   "source": [
    "def node_color(node, rank, start_rgb, end_rgb):\n",
    "    # YOUR CODE HERE\n",
    "    raise NotImplementedError()"
   ]
  },
  {
   "cell_type": "code",
   "execution_count": null,
   "metadata": {
    "deletable": false,
    "editable": false,
    "nbgrader": {
     "cell_type": "code",
     "checksum": "6ddeb8d053aba2cfbe3e9b833370d1e5",
     "grade": true,
     "grade_id": "cell-6fcdf663af93ac9a",
     "locked": true,
     "points": 0.75,
     "schema_version": 3,
     "solution": false,
     "task": false
    }
   },
   "outputs": [],
   "source": [
    "rank = np.array([0.1, 0.2, 0.7])\n",
    "start_rgb, end_rgb = np.array([1, 1, 1]), np.array([0, 0, 0])\n",
    "temp_rgb = node_color(1, rank, start_rgb, end_rgb)\n",
    "assert temp_rgb.shape == (3,)\n",
    "assert 0 <= temp_rgb.sum() <= 3\n",
    "assert temp_rgb[0] == temp_rgb[1] == temp_rgb[2] == 0.5\n",
    "temp_rgb = node_color(0, rank, start_rgb, end_rgb)\n",
    "assert temp_rgb[0] == temp_rgb[1] == temp_rgb[2] == 1\n",
    "temp_rgb = node_color(2, rank, start_rgb, end_rgb)\n",
    "assert temp_rgb[0] == temp_rgb[1] == temp_rgb[2] == 0\n",
    "start_rgb = np.array([231, 76, 60]) / 255\n",
    "end_rgb = np.array([46, 204, 113 ]) / 255\n",
    "assert round(node_color(0, ranks[-1], start_rgb, end_rgb).sum(), 4) == 1.424\n",
    "assert round(node_color(1, ranks[-1], start_rgb, end_rgb).sum(), 4) == 1.4254"
   ]
  },
  {
   "cell_type": "markdown",
   "metadata": {},
   "source": [
    "Let us draw PageRank of nodes by alpha. Node with the lowest PageRank will be red, the largest — green, and others will spread between them."
   ]
  },
  {
   "cell_type": "code",
   "execution_count": null,
   "metadata": {},
   "outputs": [],
   "source": [
    "plt.figure(figsize=(14, 5))\n",
    "\n",
    "cases = [[1, None, None, None, None, 'PageRank of nodes'], \n",
    "         [2, 0.4, 0.95, 0.015, 0.035, 'PageRank of nodes (zoom)']]\n",
    "\n",
    "for i, x_min, x_max, y_min, y_max, t in cases:\n",
    "    plt.subplot(1, 2, i)\n",
    "    for node in G.nodes:\n",
    "        plt.plot(\n",
    "            alpha_space, \n",
    "            ranks[:, node], \n",
    "            color=node_color(node, ranks[-1], start_rgb, end_rgb)\n",
    "        )\n",
    "    plt.xlabel('alpha')\n",
    "    plt.ylabel('PageRank')\n",
    "    plt.title(t)\n",
    "    plt.xlim(x_min, x_max)\n",
    "    plt.ylim(y_min, y_max)"
   ]
  },
  {
   "cell_type": "markdown",
   "metadata": {},
   "source": [
    "We can observe that reds are going down, greens going up, but some intermediate nodes change the direction near alpha 0.7. Why do you think?\n",
    "\n",
    "Next, let us draw a similar plot — PageRank of nodes with respect to number of iterations while alpha is fixed.\n",
    "\n",
    "Write a function `rank_matrix_by_alpha` that takes a graph `G`, `alpha`, number of iterations `k` and returns a matrix of PageRank scores where iterations are rows and nodes are columns. Iterations are 1, 2, ..., `k`."
   ]
  },
  {
   "cell_type": "code",
   "execution_count": null,
   "metadata": {
    "deletable": false,
    "nbgrader": {
     "cell_type": "code",
     "checksum": "c116e0af6bcd617747eb0b2ce43cd056",
     "grade": false,
     "grade_id": "cell-85201461fc06f970",
     "locked": false,
     "schema_version": 3,
     "solution": true,
     "task": false
    }
   },
   "outputs": [],
   "source": [
    "def rank_matrix_by_number(G, alpha, k):\n",
    "    # YOUR CODE HERE\n",
    "    raise NotImplementedError()"
   ]
  },
  {
   "cell_type": "code",
   "execution_count": null,
   "metadata": {
    "deletable": false,
    "editable": false,
    "nbgrader": {
     "cell_type": "code",
     "checksum": "fc540feee3aee29ee051a94dbe06f79b",
     "grade": true,
     "grade_id": "cell-326b1dacff6d46f5",
     "locked": true,
     "points": 0.75,
     "schema_version": 3,
     "solution": false,
     "task": false
    }
   },
   "outputs": [],
   "source": [
    "ranks = rank_matrix_by_number(G, 0.9, 15)\n",
    "ranks.shape == (16, 34)\n",
    "assert 0.06 < ranks[:, 0].min() < ranks[:, 0].max() < 0.15\n",
    "assert 0.01 < ranks[:, 7].min(), ranks[:, 7].max() < 0.03"
   ]
  },
  {
   "cell_type": "markdown",
   "metadata": {},
   "source": [
    "Let us draw dependencies between PageRank and number of iterations."
   ]
  },
  {
   "cell_type": "code",
   "execution_count": null,
   "metadata": {},
   "outputs": [],
   "source": [
    "plt.figure(figsize=(7, 5))\n",
    "\n",
    "for node in G.nodes:\n",
    "    plt.plot(\n",
    "        ranks[:, node], \n",
    "        color=node_color(node, ranks[-1], start_rgb, end_rgb)\n",
    "    )\n",
    "plt.xlabel('number of iterations')\n",
    "plt.ylabel('PageRank')\n",
    "plt.title('PageRank by nodes')\n",
    "\n",
    "plt.show()"
   ]
  },
  {
   "cell_type": "markdown",
   "metadata": {},
   "source": [
    "Next, let us see another visualization of PageRank dynamics. Here are nodes on x axis and PageRank on y axis with log scale."
   ]
  },
  {
   "cell_type": "code",
   "execution_count": null,
   "metadata": {},
   "outputs": [],
   "source": [
    "plt.figure(figsize=(12, 6))\n",
    "\n",
    "plt.subplot(1, 2, 1)\n",
    "artists = []\n",
    "for alpha in np.linspace(0.1, 0.95, 9):\n",
    "    artists.append(plt.plot(page_rank(G, alpha, 30), alpha=alpha+0.05, c='tab:orange')[0])\n",
    "plt.title('PageRank with alpha from 0.1 to 0.95\\n number of iterations is 30')\n",
    "plt.xlabel('node')\n",
    "plt.ylabel('PageRank')\n",
    "plt.yscale('log')\n",
    "plt.legend([artists[0], artists[-1]], ['alpha is 0.1', 'alpha is 0.95'])\n",
    "\n",
    "plt.subplot(1, 2, 2)\n",
    "artists = []\n",
    "for i in np.arange(1, 20):\n",
    "    artists.append(plt.plot(page_rank(G, 0.95, i), alpha=i*0.2, c='tab:blue')[0])\n",
    "plt.title('PageRank with number of iterations from 1 to 20\\n alpha is 0.95')\n",
    "plt.xlabel('node')\n",
    "plt.ylabel('PageRank')\n",
    "plt.yscale('log')\n",
    "plt.legend([artists[0], artists[-1]], ['number is 1', 'number is 20'])\n",
    "\n",
    "plt.show()"
   ]
  },
  {
   "cell_type": "markdown",
   "metadata": {},
   "source": [
    "Finally, compare PageRank and degree centrality by drawing them on a scatter plot.\n",
    "\n",
    "Write a function `rank_degree_scatter` that takes a graph `G`, `alpha` and number of iterations `k` and returns a scatter plot (`matplotlib.collections.PathCollection` object). The function draws a scatter plot with PageRank on x axis and degree centrality on y axis."
   ]
  },
  {
   "cell_type": "code",
   "execution_count": null,
   "metadata": {
    "deletable": false,
    "nbgrader": {
     "cell_type": "code",
     "checksum": "77d141dcebcf0e5663d113eee408de53",
     "grade": false,
     "grade_id": "cell-d989f5ac0a4917a4",
     "locked": false,
     "schema_version": 3,
     "solution": true,
     "task": false
    }
   },
   "outputs": [],
   "source": [
    "def rank_degree_scatter(G, alpha, k):\n",
    "    # YOUR CODE HERE\n",
    "    raise NotImplementedError()"
   ]
  },
  {
   "cell_type": "code",
   "execution_count": null,
   "metadata": {
    "deletable": false,
    "editable": false,
    "nbgrader": {
     "cell_type": "code",
     "checksum": "f7585a67c6f68c464a8373220207f4d3",
     "grade": true,
     "grade_id": "cell-19eb524a6c669e02",
     "locked": true,
     "points": 0.75,
     "schema_version": 3,
     "solution": false,
     "task": false
    }
   },
   "outputs": [],
   "source": [
    "plt.figure(figsize=(12, 6))\n",
    "\n",
    "plt.subplot(1, 2, 1)\n",
    "scatter = rank_degree_scatter(G, 0.1, 30)\n",
    "sc_data = scatter.get_offsets().data\n",
    "assert sc_data.shape == (34, 2)\n",
    "assert 0.96 < np.corrcoef(sc_data[:, 0], sc_data[:, 1])[0, 1] < 0.98\n",
    "assert 0.02 < sc_data[:, 0].min() < sc_data[:, 0].max() < 0.043\n",
    "assert 0.03 < sc_data[:, 1].min() < sc_data[:, 1].max() < 0.52\n",
    "plt.xlabel('PageRank')\n",
    "plt.ylabel('Degree centrality')\n",
    "plt.title('alpha 0.1')\n",
    "\n",
    "plt.subplot(1, 2, 2)\n",
    "rank_degree_scatter(G, 0.9, 30)\n",
    "plt.xlabel('PageRank')\n",
    "plt.ylabel('Degree centrality')\n",
    "plt.title('alpha 0.9')\n",
    "\n",
    "plt.show()"
   ]
  },
  {
   "cell_type": "markdown",
   "metadata": {},
   "source": [
    "### Task 3. HITS visualization (2 points)\n",
    "\n",
    "In this task we will try to find authorities and hubs in political blogs and visualize them. The data is provided from [Political blogosphere Feb. 2005](http://vlado.fmf.uni-lj.si/pub/networks/data/mix/mixed.htm) dataset.\n",
    "\n",
    "The graph contains parallel edges, but HITS algorithm only works without parallel edges. The simplest way to drop parallel edges is to convert a directed multigraph (`nx.MultiDiGraph`) into a directed graph (`nx.DiGraph`).\n",
    "\n",
    "Write a function `hits_polblogs` that takes a path to a gml file with data and returns a tuple with a graph and two dictionaries of the form\n",
    "* `{node: value}`\n",
    "\n",
    "The first dictionary is hub scores, the second one is authority scores. That is, a full output is `(G, hub, auth)`. Apply `nx.hits` to calculate hub and authority scores."
   ]
  },
  {
   "cell_type": "code",
   "execution_count": null,
   "metadata": {
    "deletable": false,
    "nbgrader": {
     "cell_type": "code",
     "checksum": "7a862b6f8bea5ea09f1475476551ca97",
     "grade": false,
     "grade_id": "cell-a1cef6ac5cb166ca",
     "locked": false,
     "schema_version": 3,
     "solution": true,
     "task": false
    }
   },
   "outputs": [],
   "source": [
    "def hits_polblogs(filename):\n",
    "    # YOUR CODE HERE\n",
    "    raise NotImplementedError()"
   ]
  },
  {
   "cell_type": "code",
   "execution_count": null,
   "metadata": {
    "deletable": false,
    "editable": false,
    "nbgrader": {
     "cell_type": "code",
     "checksum": "9e77c1494db0113742e672b68b69f031",
     "grade": false,
     "grade_id": "cell-4906014e66426bd0",
     "locked": true,
     "schema_version": 3,
     "solution": false,
     "task": false
    }
   },
   "outputs": [],
   "source": [
    "url = 'https://raw.githubusercontent.com/vpozdnyakov/network_science_assignments/master/assignment_links_structure/polblogs.gml'\n"
   ]
  },
  {
   "cell_type": "code",
   "execution_count": null,
   "metadata": {
    "deletable": false,
    "editable": false,
    "nbgrader": {
     "cell_type": "code",
     "checksum": "865f9a156f74699bf05d0085bbf55e98",
     "grade": true,
     "grade_id": "cell-6613e1dd2efb04ec",
     "locked": true,
     "points": 1,
     "schema_version": 3,
     "solution": false,
     "task": false
    }
   },
   "outputs": [],
   "source": [
    "open('polblogs.gml', 'wb').write(requests.get(url).content)\n",
    "G, hub, auth = hits_polblogs('polblogs.gml')\n",
    "assert type(G) == nx.DiGraph\n",
    "assert len(hub.values()) == len(auth.values()) == 1490\n",
    "assert round(max(hub.values()), 4) == 0.0069\n",
    "assert round(max(auth.values()), 4) == 0.015"
   ]
  },
  {
   "cell_type": "code",
   "execution_count": null,
   "metadata": {},
   "outputs": [],
   "source": [
    "G.number_of_nodes()"
   ]
  },
  {
   "cell_type": "code",
   "execution_count": null,
   "metadata": {},
   "outputs": [],
   "source": [
    "G.number_of_edges()"
   ]
  },
  {
   "cell_type": "markdown",
   "metadata": {},
   "source": [
    "There are many edges and nodes and it makes hard to draw the whole graph. Then, let us draw a scatter plot with hub and authority scores."
   ]
  },
  {
   "cell_type": "code",
   "execution_count": null,
   "metadata": {},
   "outputs": [],
   "source": [
    "plt.figure(figsize=(7, 7))\n",
    "plt.scatter(hub.values(), auth.values(), s=7)\n",
    "plt.xlabel('Hub')\n",
    "plt.ylabel('Authority')\n",
    "plt.show()"
   ]
  },
  {
   "cell_type": "markdown",
   "metadata": {},
   "source": [
    "Next, draw a graph with 14 nodes: top 7 authorities and top 7 hubs. Hubs will be on the left, authorities will be on the right.\n",
    "\n",
    "Write a function `hits_visualization` that takes a graph `G`, hub, authority dictionaries, the number of top nodes and returns a dictionary with keys:\n",
    "* `h_top` — np.array of top nodes by hub score\n",
    "* `a_top` — np.array of top nodes by authority score\n",
    "* `subG` — subgraph of `G` with top nodes only\n",
    "* `h_vals` — np.array with hub scores (in initial graph) of top nodes that ordered by `subG.nodes` view \n",
    "* `a_vals` — the same for authority score\n",
    "* `pos` — dictionary with keys are nodes and values are x-y positions of the form\n",
    "\n",
    "`{node: [x, y]}` where \n",
    "* x equals to 0 if it is a hub and 1 if it is a authority\n",
    "* y equals to an index of top array\n",
    "\n",
    "That is, x could be 0 or 1 and y could be 0, 1, ..., 6."
   ]
  },
  {
   "cell_type": "code",
   "execution_count": null,
   "metadata": {
    "deletable": false,
    "nbgrader": {
     "cell_type": "code",
     "checksum": "1dc553075ab6d9d8a8e25d51b4af595f",
     "grade": false,
     "grade_id": "cell-649d271bd4a397a7",
     "locked": false,
     "schema_version": 3,
     "solution": true,
     "task": false
    }
   },
   "outputs": [],
   "source": [
    "def hits_visualization(G, hub, auth, top):\n",
    "    # YOUR CODE HERE\n",
    "    raise NotImplementedError()"
   ]
  },
  {
   "cell_type": "code",
   "execution_count": null,
   "metadata": {
    "deletable": false,
    "editable": false,
    "nbgrader": {
     "cell_type": "code",
     "checksum": "85a923ed169312040ca0e88351848015",
     "grade": true,
     "grade_id": "cell-e527d05e1009eca3",
     "locked": true,
     "points": 1,
     "schema_version": 3,
     "solution": false,
     "task": false
    }
   },
   "outputs": [],
   "source": [
    "vi = hits_visualization(G, hub, auth, 7)\n",
    "h_top, a_top = vi['h_top'], vi['a_top']\n",
    "h_vals, a_vals = vi['h_vals'], vi['a_vals']\n",
    "subG, pos = vi['subG'], vi['pos']\n",
    "assert h_top.shape[0] == a_top.shape[0] == int(len(subG) / 2) == 7\n",
    "assert 'politicalstrategy.org' == h_top[0]\n",
    "assert 'talkingpointsmemo.com' in a_top\n",
    "assert h_vals.shape == a_vals.shape == (14,)\n",
    "assert h_vals.max() < 0.0069\n",
    "assert 0 <= a_vals.min()\n",
    "assert pos['atrios.blogspot.com'] == [1, 2]\n",
    "assert pos['juancole.com'] == [1, 5]"
   ]
  },
  {
   "cell_type": "markdown",
   "metadata": {},
   "source": [
    "Networkx allows to draw nodes, edges, labels separately. In this case, we need to fix a layout and then draw a graph by layers. Let us draw a graph via `nx.draw_networkx`, then draw right labels and then draw left labels via `nx.draw_networkx_labels`. Also we will crop labels with more than 15 symbols to fit on the screen."
   ]
  },
  {
   "cell_type": "code",
   "execution_count": null,
   "metadata": {},
   "outputs": [],
   "source": [
    "plt.figure(figsize=(12, 8*2))\n",
    "\n",
    "h_labels = {i:i[:15] if len(i)<=15 else i[:15] + '...' for i in h_top}\n",
    "a_labels = {i:i[:15] if len(i)<=15 else i[:15] + '...' for i in a_top}\n",
    "a_pos = {node:(pos[node][0] + 0.1, pos[node][1]) for node in pos}\n",
    "h_pos = {node:(pos[node][0] - 0.1, pos[node][1]) for node in pos}\n",
    "\n",
    "cases = [[1, 'tab:purple', a_vals, 'Node size by authority score'], \n",
    "         [2, 'tab:cyan', h_vals, 'Node size by hub score']]\n",
    "for i, color, vals, t in cases:\n",
    "    plt.subplot(2, 1, i)\n",
    "    plt.gca().axis('off')\n",
    "    nx.draw_networkx(\n",
    "        subG,\n",
    "        pos,\n",
    "        width=0.5,\n",
    "        with_labels=False,\n",
    "        edgecolors='black',\n",
    "        node_size=vals*1e5,\n",
    "        node_color=color\n",
    "    )\n",
    "    nx.draw_networkx_labels(\n",
    "        subG,\n",
    "        pos=a_pos,\n",
    "        labels=a_labels,\n",
    "        horizontalalignment='left'\n",
    "    )\n",
    "    nx.draw_networkx_labels(\n",
    "        subG,\n",
    "        pos=h_pos,\n",
    "        labels=h_labels,\n",
    "        horizontalalignment='right'\n",
    "    )\n",
    "\n",
    "    plt.xlim(-0.5, 1.5)\n",
    "    plt.title(t)"
   ]
  },
  {
   "cell_type": "markdown",
   "metadata": {},
   "source": [
    "### Task 4. Similarity measures (2 point)\n",
    "\n",
    "In this section we will look at how nodes can be similar to each other. A large recipes dataset taken from [Kaggle](https://www.kaggle.com/kaggle/recipe-ingredients-dataset), but it was cropped and now there are only 25 of the most popular ingredients. Ingredients are connected by an edge if there is a high probability of meeting them in the same recipe."
   ]
  },
  {
   "cell_type": "code",
   "execution_count": null,
   "metadata": {},
   "outputs": [],
   "source": [
    "url = 'https://raw.githubusercontent.com/vpozdnyakov/network_science_assignments/master/assignment_links_structure/compact_recipes.gml'\n"
   ]
  },
  {
   "cell_type": "code",
   "execution_count": null,
   "metadata": {},
   "outputs": [],
   "source": [
    "open('compact_recipes.gml', 'wb').write(requests.get(url).content)\n",
    "G = nx.read_gml('compact_recipes.gml')"
   ]
  },
  {
   "cell_type": "code",
   "execution_count": null,
   "metadata": {},
   "outputs": [],
   "source": [
    "plt.figure(figsize=(10, 10))\n",
    "plt.gca().axis('off')\n",
    "\n",
    "pos = nx.spring_layout(G)\n",
    "nx.draw_networkx_nodes(\n",
    "    G,\n",
    "    pos,\n",
    "    node_color='tab:cyan'\n",
    ")\n",
    "nx.draw_networkx_edges(\n",
    "    G,\n",
    "    pos,\n",
    "    width=2,\n",
    "    alpha=0.1,\n",
    ")\n",
    "nx.draw_networkx_labels(\n",
    "    G,\n",
    "    pos,\n",
    ")\n",
    "plt.show()"
   ]
  },
  {
   "cell_type": "markdown",
   "metadata": {},
   "source": [
    "Write a function `sim_matrices` that takes a graph and returns a tuple with similarity matrices:\n",
    "* Adjacency matrix\n",
    "* Pearson correlation\n",
    "* Jaccard similarity\n",
    "* Cosine similarity\n",
    "\n",
    "Look at networkx, sklearn, numpy."
   ]
  },
  {
   "cell_type": "code",
   "execution_count": null,
   "metadata": {
    "deletable": false,
    "nbgrader": {
     "cell_type": "code",
     "checksum": "a4675ca8cd1017e9253e288075ef2d94",
     "grade": false,
     "grade_id": "cell-573a4e98e9a01195",
     "locked": false,
     "schema_version": 3,
     "solution": true,
     "task": false
    }
   },
   "outputs": [],
   "source": [
    "def sim_matrices(G):\n",
    "    # YOUR CODE HERE\n",
    "    raise NotImplementedError()"
   ]
  },
  {
   "cell_type": "code",
   "execution_count": null,
   "metadata": {
    "deletable": false,
    "editable": false,
    "nbgrader": {
     "cell_type": "code",
     "checksum": "c8314d3d6de560916e9c81c076b117c7",
     "grade": true,
     "grade_id": "cell-a9782cc7dfcdf06d",
     "locked": true,
     "points": 2,
     "schema_version": 3,
     "solution": false,
     "task": false
    }
   },
   "outputs": [],
   "source": [
    "A, corr, J, cos = sim_matrices(G)\n",
    "assert A.shape == corr.shape == J.shape == cos.shape == (25,25)\n",
    "assert A[0].sum() == 14\n",
    "assert corr[0].sum().round(4) == 6.2779\n",
    "assert J[0].sum().round(4) == 3.293\n",
    "assert cos[0].sum().round(4) == 14.633"
   ]
  },
  {
   "cell_type": "markdown",
   "metadata": {},
   "source": [
    "Let us draw heatmaps of these similarities."
   ]
  },
  {
   "cell_type": "code",
   "execution_count": null,
   "metadata": {},
   "outputs": [],
   "source": [
    "fig = plt.figure(figsize=(9, 9*4))\n",
    "plt.subplots_adjust(hspace=0.4, wspace=0.4)\n",
    "cases = [[1, A, plt.cm.Greys, 'Adjacency matrix'], \n",
    "         [2, corr, None, 'Pearson correlation'], \n",
    "         [3, J, None, 'Jaccard similarity'], \n",
    "         [4, cos, None, 'Cosine similarity'], ]\n",
    "for i, matrix, cmap, t in cases:\n",
    "    plt.subplot(4, 1, i)\n",
    "    hmap = sns.heatmap(\n",
    "        matrix,\n",
    "        cmap=cmap,\n",
    "        square=True,\n",
    "        yticklabels=list(G.nodes))\n",
    "    hmap.set_xticklabels(\n",
    "        labels=list(G.nodes), \n",
    "        rotation=45, \n",
    "        horizontalalignment='right')\n",
    "    plt.title(t)"
   ]
  },
  {
   "cell_type": "markdown",
   "metadata": {},
   "source": [
    "### Task 5. Reordering of nodes (1 points)\n",
    "\n",
    "Without special preprocess procedures an adjacency matrix can look very noisy and hide network's structure. There are some procedures of node reordering that provides a better view of the network's adjacency matrix. Reverse Cuthill-McKee finds permutation of the nodes that minimizes the bandwidth of the matrix, which is calculated as\n",
    "\n",
    "$$ \\theta = \\max_{a_{ij} > 0}|i-j|$$\n",
    "\n",
    "Unformally, this algorithm puts some mass on the diagonal of adjacency matrix. \n",
    "\n",
    "Write a function `cm_order` that takes a graph and returns a np.array with a permutation of the form $[i_1, i_2, \\dots, i_n]$ where $i_1$ is an index of the first row and the first column.\n",
    "\n",
    "Apply `scipy.sparse.csgraph.reverse_cuthill_mckee` or `nx.utils.reverse_cuthill_mckee_ordering`."
   ]
  },
  {
   "cell_type": "code",
   "execution_count": null,
   "metadata": {
    "deletable": false,
    "nbgrader": {
     "cell_type": "code",
     "checksum": "b00bb7c47401a601c3121fcb9e59036b",
     "grade": false,
     "grade_id": "cell-aebff5f597011ed8",
     "locked": false,
     "schema_version": 3,
     "solution": true,
     "task": false
    }
   },
   "outputs": [],
   "source": [
    "def cm_order(G):\n",
    "    # YOUR CODE HERE\n",
    "    raise NotImplementedError()"
   ]
  },
  {
   "cell_type": "code",
   "execution_count": null,
   "metadata": {
    "deletable": false,
    "editable": false,
    "nbgrader": {
     "cell_type": "code",
     "checksum": "3be4b100a6e65ccf174782ae4f3880c4",
     "grade": true,
     "grade_id": "cell-3bfc3b5f9b286f1d",
     "locked": true,
     "points": 1,
     "schema_version": 3,
     "solution": false,
     "task": false
    }
   },
   "outputs": [],
   "source": [
    "order = cm_order(G)\n",
    "assert order.shape == (25,)\n",
    "assert order[4:5].sum() < order[:3].sum() < order[4:6].sum()"
   ]
  },
  {
   "cell_type": "markdown",
   "metadata": {},
   "source": [
    "Let us draw the heatmaps with a default and changed order side-by-side. A default order will be on the left, a changed order — on the right."
   ]
  },
  {
   "cell_type": "code",
   "execution_count": null,
   "metadata": {},
   "outputs": [],
   "source": [
    "fig = plt.figure(figsize=(13, 13*2))\n",
    "plt.subplots_adjust(hspace=0.4, wspace=0.4)\n",
    "\n",
    "cases = [[1, A, plt.cm.Greys, 'Adjacency', range(25)],\n",
    "         [2, A, plt.cm.Greys, 'Adjacency (reordered)', order],\n",
    "         [3, corr, None, 'Pearson correlation', range(25)], \n",
    "         [4, corr, None, 'Pearson correlation (reordered)', order], \n",
    "         [5, J, None, 'Jaccard similarity', range(25)], \n",
    "         [6, J, None, 'Jaccard similarity (reordered)', order], \n",
    "         [7, cos, None, 'Cosine similarity', range(25)], \n",
    "         [8, cos, None, 'Cosine similarity (reordered)', order]]\n",
    "\n",
    "for i, matrix, cmap, t, o in cases:\n",
    "    plt.subplot(4, 2, i)\n",
    "    hmap = sns.heatmap(\n",
    "        matrix[np.ix_(o, o)],\n",
    "        cmap=cmap,\n",
    "        cbar=False,\n",
    "        square=True,\n",
    "        yticklabels=np.array(list(G.nodes))[o])\n",
    "    hmap.set_xticklabels(\n",
    "        labels=np.array(list(G.nodes))[o], \n",
    "        rotation=45, \n",
    "        horizontalalignment='right')\n",
    "    plt.title(t)"
   ]
  },
  {
   "cell_type": "markdown",
   "metadata": {},
   "source": [
    "We can observe that the right-hand heatmaps look smoother, and we can detect dense regions on them."
   ]
  },
  {
   "cell_type": "markdown",
   "metadata": {},
   "source": [
    "### Task 6. Assortative Mixing (0.5 points)\n",
    "\n",
    "In this task, we look at Game of Thrones death graph that based on this [GitHub dataset](https://github.com/jeffreylancaster/game-of-thrones). This is a directed graph where nodes are persons and a links go from killers to victims, so every node has no more than one in-degree. Also nodes have an attrubute \"house\". Let us draw a whole graph and zoom in on some area."
   ]
  },
  {
   "cell_type": "code",
   "execution_count": null,
   "metadata": {},
   "outputs": [],
   "source": [
    "url = 'https://raw.githubusercontent.com/vpozdnyakov/network_science_assignments/master/assignment_links_structure/got_deaths.gml'\n"
   ]
  },
  {
   "cell_type": "code",
   "execution_count": null,
   "metadata": {},
   "outputs": [],
   "source": [
    "open('got_deaths.gml', 'wb').write(requests.get(url).content)\n",
    "G = nx.read_gml('got_deaths.gml')"
   ]
  },
  {
   "cell_type": "code",
   "execution_count": null,
   "metadata": {},
   "outputs": [],
   "source": [
    "plt.figure(figsize=(8, 8*2))\n",
    "\n",
    "pos = nx.spring_layout(G)\n",
    "\n",
    "plt.subplot(2, 1, 1)\n",
    "plt.gca().axis('off')\n",
    "nx.draw_networkx_nodes(\n",
    "    G,\n",
    "    pos,\n",
    "    node_size=15,\n",
    "    node_color='tab:cyan')\n",
    "nx.draw_networkx_edges(\n",
    "    G,\n",
    "    pos,\n",
    "    node_size=15,\n",
    "    width=0.5,\n",
    "    alpha=0.5)\n",
    "\n",
    "plt.subplot(2, 1, 2)\n",
    "killer = [i for i in G.predecessors('The Night King')][0]\n",
    "nx.draw_networkx_nodes(\n",
    "    G,\n",
    "    pos,\n",
    "    node_color='tab:cyan')\n",
    "nx.draw_networkx_edges(\n",
    "    G,\n",
    "    pos,\n",
    "    width=2,\n",
    "    alpha=0.1)\n",
    "nx.draw_networkx_edges(\n",
    "    G,\n",
    "    pos,\n",
    "    width=2,\n",
    "    edgelist = [(killer, 'The Night King')])\n",
    "nx.draw_networkx_labels(\n",
    "    G,\n",
    "    pos)\n",
    "\n",
    "killer_pos = pos[killer]\n",
    "nking_pos = pos['The Night King']\n",
    "\n",
    "plt.xlim(min(killer_pos[0], nking_pos[0]) - 0.1, \n",
    "         max(killer_pos[0], nking_pos[0]) + 0.1)\n",
    "plt.ylim(min(killer_pos[1], nking_pos[1]) - 0.1, \n",
    "         max(killer_pos[1], nking_pos[1]) + 0.1)\n",
    "plt.show()"
   ]
  },
  {
   "cell_type": "markdown",
   "metadata": {},
   "source": [
    "Let us draw assortative mixing of a \"house\" attribute. How often persons from one house kills persons from another?\n",
    "\n",
    "Write a function `house_mixing` that takes a graph `G` and returns tuple with a matrix of assortative mixing by a \"house\" attribute and a dictionary with mapping of the form\n",
    "* `{house: index in the matrix}`"
   ]
  },
  {
   "cell_type": "code",
   "execution_count": null,
   "metadata": {
    "deletable": false,
    "nbgrader": {
     "cell_type": "code",
     "checksum": "8010f0eec87c70caf7065f4c6983a005",
     "grade": false,
     "grade_id": "cell-79c873b1cebc9371",
     "locked": false,
     "schema_version": 3,
     "solution": true,
     "task": false
    }
   },
   "outputs": [],
   "source": [
    "def house_mixing(G):\n",
    "    # YOUR CODE HERE\n",
    "    raise NotImplementedError()"
   ]
  },
  {
   "cell_type": "code",
   "execution_count": null,
   "metadata": {
    "deletable": false,
    "editable": false,
    "nbgrader": {
     "cell_type": "code",
     "checksum": "2787106aae45006fb7760944ec723d3f",
     "grade": true,
     "grade_id": "cell-fcea4b43c9640440",
     "locked": true,
     "points": 0.5,
     "schema_version": 3,
     "solution": false,
     "task": false
    }
   },
   "outputs": [],
   "source": [
    "mixing, mapping = house_mixing(G)\n",
    "assert mixing.shape == (13, 13)\n",
    "assert mixing.max() < 0.96\n",
    "assert mixing.min() == 0\n",
    "assert mapping.get('Lannister') is not None"
   ]
  },
  {
   "cell_type": "code",
   "execution_count": null,
   "metadata": {},
   "outputs": [],
   "source": [
    "fig = plt.figure(figsize=(8, 8))\n",
    "\n",
    "hmap = sns.heatmap(\n",
    "    mixing,\n",
    "    cbar=False,\n",
    "    annot=True,\n",
    "    square=True,\n",
    "    yticklabels=[m for m in mapping])\n",
    "hmap.set_xticklabels(\n",
    "    labels=[m for m in mapping], \n",
    "    rotation=45, \n",
    "    horizontalalignment='right')\n",
    "plt.ylabel('Killer')\n",
    "plt.xlabel('Victim')\n",
    "plt.show()"
   ]
  },
  {
   "cell_type": "code",
   "execution_count": null,
   "metadata": {},
   "outputs": [],
   "source": []
  }
 ],
 "metadata": {
  "kernelspec": {
   "display_name": "Python 3",
   "language": "python",
   "name": "python3"
  },
  "language_info": {
   "codemirror_mode": {
    "name": "ipython",
    "version": 3
   },
   "file_extension": ".py",
   "mimetype": "text/x-python",
   "name": "python",
   "nbconvert_exporter": "python",
   "pygments_lexer": "ipython3",
   "version": "3.7.4"
  }
 },
 "nbformat": 4,
 "nbformat_minor": 4
}
