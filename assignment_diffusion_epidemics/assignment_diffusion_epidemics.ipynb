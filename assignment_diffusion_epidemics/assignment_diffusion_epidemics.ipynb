{
 "cells": [
  {
   "cell_type": "markdown",
   "metadata": {},
   "source": [
    "# Assignment — Diffusion and epidemics"
   ]
  },
  {
   "cell_type": "code",
   "execution_count": null,
   "metadata": {},
   "outputs": [],
   "source": [
    "import numpy as np\n",
    "import matplotlib.pyplot as plt\n",
    "import networkx as nx"
   ]
  },
  {
   "cell_type": "markdown",
   "metadata": {},
   "source": [
    "### Task 1. Biased random walks, flow graphs (1 points)"
   ]
  },
  {
   "cell_type": "markdown",
   "metadata": {},
   "source": [
    "In this task, we consider a concept of flow graphs, namely weighted networks where dynamics flows are embedded into the link weight. Flow graphs provide an integrated representation of the structure and dynamics of the system, which can then be analyzed with standard tools of network science. Recall that an unbiased random walk uses a transition matrix $P$ to calculate distribution vector $p(t)$\n",
    "\n",
    "$$p(t+1) = P^Tp(t)$$\n",
    "\n",
    "$$P = D^{-1}A$$\n",
    "\n",
    "where $D$ is a degree matrix. Thereby, the probability to jump from $i$ to $j$ is \n",
    "\n",
    "$$P_{ij} = \\frac{A_{ij}}{d_i}$$\n",
    "\n",
    "That is, a walker select the next node uniformly from nearest neighbors. \n",
    "\n",
    "A biased random walk is defined as follows. Let each node $i$ be given a definite positive attribute $\\alpha_i$. Then a walker located at node $i$ decides to jump onto one of its neighbors, say $j$, with a probability proportional to $\\alpha_jA_{ij}$. Hence, the probability to jump from $i$ to $j$ is given by\n",
    "\n",
    "$$P_{ij} = \\frac{\\alpha_j A_{ij}}{\\sum_k \\alpha_k A_{ik}}$$\n",
    "\n",
    "The usefull property of a biased random walk is that it coincides with an unbiased random walks on a _flow graph_\n",
    "\n",
    "$$A'_{ij} = \\alpha_i A_{ij} \\alpha_j$$\n",
    "\n",
    "Let us build this graph and look at its structure."
   ]
  },
  {
   "cell_type": "code",
   "execution_count": null,
   "metadata": {},
   "outputs": [],
   "source": [
    "G = nx.karate_club_graph()\n",
    "pos = nx.kamada_kawai_layout(G)"
   ]
  },
  {
   "cell_type": "markdown",
   "metadata": {},
   "source": [
    "Build a few flow graphs using some centralities: degree, betweenness, eigenvalue.\n",
    "\n",
    "Write a function `degree_flow_graph` that takes a graph and returns a flow graph where $\\alpha_i$ is a degree centrality value of a node $i$. All weights are bounded by $\\alpha_i / \\max(\\alpha)$, that is the largest weight is 1.\n",
    "\n",
    "Functions `betweenness_flow_graph` and `eigenvector_flow_graph` have the same form, they are based on betweenness and eigenvalue centrality respectively."
   ]
  },
  {
   "cell_type": "code",
   "execution_count": null,
   "metadata": {
    "deletable": false,
    "nbgrader": {
     "cell_type": "code",
     "checksum": "eb3b9eca6a9f04429f03315d01209d93",
     "grade": false,
     "grade_id": "cell-04f56f28f8867579",
     "locked": false,
     "schema_version": 3,
     "solution": true,
     "task": false
    }
   },
   "outputs": [],
   "source": [
    "def degree_flow_graph(G):\n",
    "    # YOUR CODE HERE\n",
    "    raise NotImplementedError()"
   ]
  },
  {
   "cell_type": "code",
   "execution_count": null,
   "metadata": {
    "deletable": false,
    "editable": false,
    "nbgrader": {
     "cell_type": "code",
     "checksum": "d6590d6f124cb236f38131d1bcb4fbe0",
     "grade": true,
     "grade_id": "cell-14398c9eadfacddc",
     "locked": true,
     "points": 0.2,
     "schema_version": 3,
     "solution": false,
     "task": false
    }
   },
   "outputs": [],
   "source": [
    "degreeG = degree_flow_graph(G)\n",
    "assert len(G) == len(degreeG)\n",
    "d_weight = np.array([d['weight'] for (u,v,d) in degreeG.edges(data=True)])\n",
    "assert round(d_weight.sum(), 4) == 17.8431\n",
    "assert round(d_weight[76], 4) == 0.5\n",
    "assert round(d_weight[33], 4) == 0.0588\n",
    "assert round(d_weight[31], 4) == 0.5882"
   ]
  },
  {
   "cell_type": "code",
   "execution_count": null,
   "metadata": {
    "deletable": false,
    "nbgrader": {
     "cell_type": "code",
     "checksum": "b6c4cc5575d3e4ea1e335919f267cfba",
     "grade": false,
     "grade_id": "cell-cc44ca02db2aff94",
     "locked": false,
     "schema_version": 3,
     "solution": true,
     "task": false
    }
   },
   "outputs": [],
   "source": [
    "def betweenness_flow_graph(G):\n",
    "    # YOUR CODE HERE\n",
    "    raise NotImplementedError()"
   ]
  },
  {
   "cell_type": "code",
   "execution_count": null,
   "metadata": {
    "deletable": false,
    "editable": false,
    "nbgrader": {
     "cell_type": "code",
     "checksum": "f62e17baba8f8ddcc2345647216d92b2",
     "grade": true,
     "grade_id": "cell-473f470afca04ff2",
     "locked": true,
     "points": 0.2,
     "schema_version": 3,
     "solution": false,
     "task": false
    }
   },
   "outputs": [],
   "source": [
    "betweennessG = betweenness_flow_graph(G)\n",
    "assert len(G) == len(betweennessG)\n",
    "b_weight = np.array([d['weight'] for (u,v,d) in betweennessG.edges(data=True)])\n",
    "assert round(b_weight.sum(), 4) == 7.5463\n",
    "assert round(b_weight[1], 4) == 1\n",
    "assert round(b_weight[33], 4) == 0.1571\n",
    "assert round(b_weight[31], 4) == 0.0041"
   ]
  },
  {
   "cell_type": "code",
   "execution_count": null,
   "metadata": {
    "deletable": false,
    "nbgrader": {
     "cell_type": "code",
     "checksum": "0bf31a2d253c11032ec6f810fbed9411",
     "grade": false,
     "grade_id": "cell-20ac46eb0c6612fb",
     "locked": false,
     "schema_version": 3,
     "solution": true,
     "task": false
    }
   },
   "outputs": [],
   "source": [
    "def eigenvector_flow_graph(G):\n",
    "    # YOUR CODE HERE\n",
    "    raise NotImplementedError()"
   ]
  },
  {
   "cell_type": "code",
   "execution_count": null,
   "metadata": {
    "deletable": false,
    "editable": false,
    "nbgrader": {
     "cell_type": "code",
     "checksum": "45d6e057eb3a18a035d6e73a0e29f2d3",
     "grade": true,
     "grade_id": "cell-8ae669004390c357",
     "locked": true,
     "points": 0.1,
     "schema_version": 3,
     "solution": false,
     "task": false
    }
   },
   "outputs": [],
   "source": [
    "eigenvectorG = eigenvector_flow_graph(G)\n",
    "assert len(G) == len(eigenvectorG)\n",
    "e_weight = np.array([d['weight'] for (u,v,d) in eigenvectorG.edges(data=True)])\n",
    "assert round(e_weight.sum(), 4) == 29.1822\n",
    "assert round(e_weight[75], 4) == 0.5117\n",
    "assert round(e_weight[33], 4) == 0.1544\n",
    "assert round(e_weight[31], 4) == 0.8496"
   ]
  },
  {
   "cell_type": "markdown",
   "metadata": {},
   "source": [
    "Let us draw obtained flow graphs."
   ]
  },
  {
   "cell_type": "code",
   "execution_count": null,
   "metadata": {},
   "outputs": [],
   "source": [
    "cases = [[degreeG, d_weight, 10, 'Degree'], \n",
    "         [betweennessG, b_weight, 10, 'Betweenness'], \n",
    "         [eigenvectorG, e_weight, 10, 'Eigenvector']]\n",
    "for graph, weight, scale, title in cases:\n",
    "    plt.figure(figsize=(5, 5))\n",
    "    nx.draw(graph, \n",
    "            pos,\n",
    "            node_size=100,\n",
    "            edgecolors='black',\n",
    "            node_color='tab:cyan',\n",
    "            width=weight*scale)\n",
    "    plt.title('{} flow graph'.format(title))\n",
    "    plt.show()"
   ]
  },
  {
   "cell_type": "markdown",
   "metadata": {},
   "source": [
    "Using unbiased random walk on an undirected graph, a probability of being on a node converges to a limit distribution vector\n",
    "\n",
    "$$\\lim_{t \\to \\infty} p(t) = \\pi$$\n",
    "\n",
    "$$\\pi_i = \\frac{d_i}{\\sum_j d_j}$$\n",
    "\n",
    "Similarly using biased random walks, it converges to a limit distribution vector\n",
    "\n",
    "$$\\pi_i' = \\frac{\\sum_j \\alpha_i A_{ij} \\alpha_j}{\\sum_{i,j} \\alpha_i A_{ij} \\alpha_j}$$\n",
    "\n",
    "Let us check this fact using an eigenvector flow graph.\n",
    "\n",
    "Write a function `k_limit_distribution` that takes a graph, a number of iterations `k` and returns a tuple of 2 np.arrays:\n",
    "* np.array of shape `(k+1, n)` where `n` is a number of nodes. i-th row contains distribution at time moment `t=i`. Here is a uniform distribution at `t=0`.\n",
    "* np.array with limit distribution"
   ]
  },
  {
   "cell_type": "code",
   "execution_count": null,
   "metadata": {
    "deletable": false,
    "nbgrader": {
     "cell_type": "code",
     "checksum": "8e554fce3893f729184098b3552f2a65",
     "grade": false,
     "grade_id": "cell-7b7c7a9c1096342c",
     "locked": false,
     "schema_version": 3,
     "solution": true,
     "task": false
    }
   },
   "outputs": [],
   "source": [
    "def k_limit_distribution(G, k):\n",
    "    # YOUR CODE HERE\n",
    "    raise NotImplementedError()"
   ]
  },
  {
   "cell_type": "code",
   "execution_count": null,
   "metadata": {
    "deletable": false,
    "editable": false,
    "nbgrader": {
     "cell_type": "code",
     "checksum": "4a1da96a0b21b21e34513d01aa384c10",
     "grade": true,
     "grade_id": "cell-b4b52faca0a863dc",
     "locked": true,
     "points": 0.5,
     "schema_version": 3,
     "solution": false,
     "task": false
    }
   },
   "outputs": [],
   "source": [
    "K = 10\n",
    "k_d, limit_d = k_limit_distribution(eigenvectorG, K)\n",
    "assert k_d.shape == (11, 34)\n",
    "assert k_d[0].sum() == 1\n",
    "assert k_d.sum() == 11\n",
    "assert round(k_d[8, 8], 4) == 0.0528\n",
    "assert round(k_d[0, 13], 4) == 0.0294"
   ]
  },
  {
   "cell_type": "code",
   "execution_count": null,
   "metadata": {},
   "outputs": [],
   "source": [
    "plt.figure(figsize=(6,6))\n",
    "for k, alpha in enumerate(np.linspace(0.3, 0.9, 9)):\n",
    "    plt.plot(k_d[k], color='tab:orange', alpha=alpha)\n",
    "plt.plot(k_d[-1], color='tab:orange', label='distribution at t={}'.format(K))\n",
    "plt.plot(limit_d, '.', color='black', label='limit distribution');\n",
    "plt.legend()\n",
    "plt.title('Convergence of distribution')\n",
    "plt.show()"
   ]
  },
  {
   "cell_type": "markdown",
   "metadata": {},
   "source": [
    "### Task 2. Diffusion on networks (2 points)\n",
    "\n",
    "A diffusion process is a propagation model, where node values $\\phi$ (say, 'heat') spread out of high concentration zone. Consider the diffusion on grid of the size 20x20. Let there be a 3x3 sub-grid with a heat value 3 and a 7x5 sub-grid with a heat value 1. All other nodes has a value 0. The initial heat values is $\\phi_0$."
   ]
  },
  {
   "cell_type": "code",
   "execution_count": null,
   "metadata": {},
   "outputs": [],
   "source": [
    "phi_map = np.zeros((20, 20))\n",
    "phi_map[1:4, 1:4] = 3\n",
    "phi_map[10:15, 8:15] = 1\n",
    "phi0 = phi_map.flatten()"
   ]
  },
  {
   "cell_type": "code",
   "execution_count": null,
   "metadata": {},
   "outputs": [],
   "source": [
    "plt.figure(figsize=(7*0.7, 3*0.7))\n",
    "gridG = nx.grid_graph((20, 20))\n",
    "nx.draw_kamada_kawai(\n",
    "    gridG,\n",
    "    cmap=plt.cm.inferno_r,\n",
    "    vmin=0, vmax=3,\n",
    "    width=0,\n",
    "    node_size=40,\n",
    "    node_color=phi0)"
   ]
  },
  {
   "cell_type": "markdown",
   "metadata": {},
   "source": [
    "Create a diffusion simulation based on this diffusion equation\n",
    "\n",
    "$$\\frac{d\\phi}{dt} = -CL\\phi$$\n",
    "\n",
    "where $L$ is a graph Laplacian.\n",
    "\n",
    "Write a function `next_phi` that takes an adjacency matrix `A`, np.array with previous heat values `phi`, constant `C` and time increment `dt`. The function returns a np.array with the next heat values."
   ]
  },
  {
   "cell_type": "code",
   "execution_count": null,
   "metadata": {
    "deletable": false,
    "nbgrader": {
     "cell_type": "code",
     "checksum": "bdbd425c15838ccb3e4f20ad9b710854",
     "grade": false,
     "grade_id": "cell-76a8a6f3050f5897",
     "locked": false,
     "schema_version": 3,
     "solution": true,
     "task": false
    }
   },
   "outputs": [],
   "source": [
    "def next_phi(A, phi, C, dt):\n",
    "    # YOUR CODE HERE\n",
    "    raise NotImplementedError()"
   ]
  },
  {
   "cell_type": "code",
   "execution_count": null,
   "metadata": {
    "deletable": false,
    "editable": false,
    "nbgrader": {
     "cell_type": "code",
     "checksum": "b3a73804237292f1caa03a1d81524a1a",
     "grade": true,
     "grade_id": "cell-f23ab3a53b5409ff",
     "locked": true,
     "points": 1,
     "schema_version": 3,
     "solution": false,
     "task": false
    }
   },
   "outputs": [],
   "source": [
    "A = nx.to_numpy_array(gridG)\n",
    "C = 0.1\n",
    "dt = 2\n",
    "phi = next_phi(A, phi0, C, dt)\n",
    "assert phi.shape == (400,)\n",
    "assert phi.sum() == phi0.sum()\n",
    "assert phi.std() < phi0.sum()\n",
    "assert round(phi[20:25].sum(), 4) == 7.2"
   ]
  },
  {
   "cell_type": "code",
   "execution_count": null,
   "metadata": {},
   "outputs": [],
   "source": [
    "plt.figure(figsize=(7*2, 3*3))\n",
    "\n",
    "phi = phi0\n",
    "for i in range(6):\n",
    "    plt.subplot(3, 2, i+1)\n",
    "    gridG = nx.grid_graph((20, 20))\n",
    "    nx.draw_kamada_kawai(\n",
    "        gridG,\n",
    "        cmap=plt.cm.inferno_r,\n",
    "        vmin=0, vmax=3,\n",
    "        width=0,\n",
    "        node_size=40,\n",
    "        node_color=phi)\n",
    "    plt.title('t = {}'.format(i*dt))\n",
    "    phi = next_phi(A, phi, C, dt)\n",
    "phi12 = phi"
   ]
  },
  {
   "cell_type": "markdown",
   "metadata": {},
   "source": [
    "We can run simulation step-by-step as long as we need, but fortunately, there is an analytical solution\n",
    "\n",
    "$$\\phi(t) = \\sum_k a_k(t) v_k = \\sum_k a_k(0) e^{-C\\lambda_k t} v_k$$\n",
    "\n",
    "where $a_k(t) = \\phi(t)^T v_k$ and $v_k$ is k-th smallest eigenvector of a Laplacian.\n",
    "\n",
    "Write a function `phi_t` that takes an adjacency matrix `A`, np.array with initial heat values `phi0`, constant `C` and time moment `t`. The function returns a np.array with the heat values at time moment `t`. Use `np.linalg.eigh` or `scipy.linalg.eigh` for a symmetric matrix."
   ]
  },
  {
   "cell_type": "code",
   "execution_count": null,
   "metadata": {
    "deletable": false,
    "nbgrader": {
     "cell_type": "code",
     "checksum": "27dba9e6bac1ac552d93773571e39f3a",
     "grade": false,
     "grade_id": "cell-84b36729c8d930d8",
     "locked": false,
     "schema_version": 3,
     "solution": true,
     "task": false
    }
   },
   "outputs": [],
   "source": [
    "def phi_t(A, phi0, C, t):\n",
    "    # YOUR CODE HERE\n",
    "    raise NotImplementedError()"
   ]
  },
  {
   "cell_type": "code",
   "execution_count": null,
   "metadata": {
    "deletable": false,
    "editable": false,
    "nbgrader": {
     "cell_type": "code",
     "checksum": "94000c5e7f7567754f31b71ccf3608d8",
     "grade": true,
     "grade_id": "cell-a1556f51443a4755",
     "locked": true,
     "points": 1,
     "schema_version": 3,
     "solution": false,
     "task": false
    }
   },
   "outputs": [],
   "source": [
    "assert phi_t(A, phi0, C, 0).shape == (400,)\n",
    "assert round(np.linalg.norm(phi0 - phi_t(A, phi0, C, 0)), 4) == 0\n",
    "assert round(np.linalg.norm(phi12 - phi_t(A, phi0, C, 12)), 4) < 0.4\n",
    "assert len(np.unique(phi_t(A, phi0, C, 10000).round(4))) == 1\n",
    "assert phi_t(A, phi0, C, 10000).round(4)[0] == phi0.sum() / len(phi0)"
   ]
  },
  {
   "cell_type": "code",
   "execution_count": null,
   "metadata": {},
   "outputs": [],
   "source": [
    "plt.figure(figsize=(7*2, 3*2))\n",
    "i = 1\n",
    "for t in [10, 20, 50, 100]:\n",
    "    plt.subplot(2, 2, i)\n",
    "    gridG = nx.grid_graph((20, 20))\n",
    "    nx.draw_kamada_kawai(\n",
    "        gridG,\n",
    "        cmap=plt.cm.inferno_r,\n",
    "        vmin=0, vmax=3,\n",
    "        width=0,\n",
    "        node_size=40,\n",
    "        node_color=phi_t(A, phi0, C, t))\n",
    "    plt.title('t = {}'.format(t))\n",
    "    i += 1"
   ]
  },
  {
   "cell_type": "markdown",
   "metadata": {},
   "source": [
    "### Task 3. SIR model (1 points)\n",
    "\n",
    "Consider a simple model of an epidemic — SIR model. There is no networks, only compartmental model. S — susceptible, I — infectious, R — recovered people. Initialy we only have a few infected persons and all other are susceptible. Then some susceptible people become infected with infection rate $\\beta$ and some infected people recover with recovery rate $\\gamma$. There is no chance to infect after recovering. The model is defined as follows:\n",
    "\n",
    "Dynamic form\n",
    "\n",
    "$$S \\to_{\\beta SI} I \\to_{\\gamma I} R$$\n",
    "\n",
    "Equation form\n",
    "\n",
    "$$\\begin{cases}\n",
    "\\frac{ds}{dt} = -\\beta si\\\\\n",
    "\\frac{di}{dt} = \\beta si - \\gamma i\\\\\n",
    "\\frac{dr}{dt} = \\gamma i\\\\\n",
    "s+i+r = 1\n",
    "\\end{cases}$$\n",
    "\n",
    "Let us simulate an infection on this model.\n",
    "\n",
    "Write a function `sir_epidemic` that takes an initial proportion of `s`, `i`, `r`, infection rate `beta`, recovery rate `gamma`, a number of steps `k` and time increment `dt`. The function returns np.array of shape `(k+1, 3)` with `s`, `i`, `r` proportion in each step. The first row contains an initial proportion."
   ]
  },
  {
   "cell_type": "code",
   "execution_count": null,
   "metadata": {
    "deletable": false,
    "nbgrader": {
     "cell_type": "code",
     "checksum": "8489b817736f648b71a494ee8db486e8",
     "grade": false,
     "grade_id": "cell-d04d4c7e210cc9b4",
     "locked": false,
     "schema_version": 3,
     "solution": true,
     "task": false
    }
   },
   "outputs": [],
   "source": [
    "def sir_epidemic(s, i, r, beta, gamma, k, dt):\n",
    "    # YOUR CODE HERE\n",
    "    raise NotImplementedError()"
   ]
  },
  {
   "cell_type": "code",
   "execution_count": null,
   "metadata": {
    "deletable": false,
    "editable": false,
    "nbgrader": {
     "cell_type": "code",
     "checksum": "a2507795c9cfee471335a604b82ea45f",
     "grade": true,
     "grade_id": "cell-ba03ef4271e82af1",
     "locked": true,
     "points": 1,
     "schema_version": 3,
     "solution": false,
     "task": false
    }
   },
   "outputs": [],
   "source": [
    "s, i, r = 0.99, 0.01, 0\n",
    "beta = 0.6\n",
    "gamma = 0.1\n",
    "dt = 1\n",
    "epidemic = sir_epidemic(s, i, r, beta, gamma, 80, dt)\n",
    "\n",
    "assert epidemic.shape == (81, 3)\n",
    "assert (epidemic[0] == [0.99, 0.01, 0.  ]).sum() == 3\n",
    "assert (epidemic[5].round(4) == [0.9155, 0.0716, 0.0129]).sum() == 3\n",
    "assert (epidemic[80].round(2) == [0, 0, 1]).sum() == 3\n",
    "\n",
    "plt.plot(epidemic)\n",
    "plt.legend(['S', 'I', 'R']);"
   ]
  },
  {
   "cell_type": "markdown",
   "metadata": {},
   "source": [
    "### Task 4. SIRS model (2 points)\n",
    "\n",
    "The next model is SIRS, that is the same as SIR with an exception recovered people lose their immunity with rate $\\delta$. A dynamic form is\n",
    "\n",
    "$$S \\to_{\\beta SI} I \\to_{\\gamma I} R \\to_{\\delta R} S$$\n",
    "\n",
    "Try to find an equation form using a dynamic form and implement this model.\n",
    "\n",
    "Write a function `sirs_epidemic` that takes an initial proportion of `s`, `i`, `r`, infection rate `beta`, recovery rate `gamma`, loss of immunity rate `delta`, a number of steps `k` and time increment `dt`. The function returns np.array of shape `(k+1, 3)` with `s`, `i`, `r` proportion in each step. The first row contains an initial proportion."
   ]
  },
  {
   "cell_type": "code",
   "execution_count": null,
   "metadata": {
    "deletable": false,
    "nbgrader": {
     "cell_type": "code",
     "checksum": "2dcedd833b00c4441addd9fd37def1a0",
     "grade": false,
     "grade_id": "cell-eba7d91414cad02e",
     "locked": false,
     "schema_version": 3,
     "solution": true,
     "task": false
    }
   },
   "outputs": [],
   "source": [
    "def sirs_epidemic(s, i, r, beta, gamma, delta, k, dt):\n",
    "    # YOUR CODE HERE\n",
    "    raise NotImplementedError()"
   ]
  },
  {
   "cell_type": "code",
   "execution_count": null,
   "metadata": {
    "deletable": false,
    "editable": false,
    "nbgrader": {
     "cell_type": "code",
     "checksum": "75019f4ac73ee18877c707e8876190b2",
     "grade": true,
     "grade_id": "cell-0209c67f0351dd21",
     "locked": true,
     "points": 2,
     "schema_version": 3,
     "solution": false,
     "task": false
    }
   },
   "outputs": [],
   "source": [
    "s, i, r = 0.9, 0.1, 0\n",
    "beta = 0.7\n",
    "gamma = 0.3\n",
    "delta = 0.03\n",
    "dt = 1\n",
    "\n",
    "epidemic = sirs_epidemic(s, i, r, beta, gamma, delta, 200, dt)\n",
    "\n",
    "assert epidemic.shape == (201, 3)\n",
    "assert (epidemic[0] == [0.9, 0.1, 0]).sum() == 3\n",
    "assert (epidemic[5].round(4) == [0.4817, 0.2718, 0.2465]).sum() == 3\n",
    "assert (epidemic[80].round(4) == [0.3894, 0.0531, 0.5575]).sum() == 3\n",
    "assert (epidemic[200].round(4) == [0.4273, 0.0519, 0.5208]).sum() == 3\n",
    "\n",
    "plt.plot(epidemic)\n",
    "plt.legend(['S', 'I', 'R']);"
   ]
  },
  {
   "cell_type": "markdown",
   "metadata": {},
   "source": [
    "### Task 5. SIS node-level model (2 points)"
   ]
  },
  {
   "cell_type": "markdown",
   "metadata": {},
   "source": [
    "Let us consider epidemic models on networks. SIS model is described by a dynamic form\n",
    "\n",
    "$$S \\to_{\\beta SI} I \\to_{\\gamma I} S$$\n",
    "\n",
    "To model epidemics on networks, we need to use probabilistic approach. First, let us define a function that gives us a random sample of available nodes by given probability.\n",
    "\n",
    "Here is a function `select_nodes` that takes a np.array `vec`, where an i-th element is a number of neighbors that can affect to i-th node with probability `proba`. For example, `vec` can represent the number of infected neighbors, say [0, 2, 1] and then the probability is an infected rate $\\beta$. That means the first node has no infected neighbors, the second has two infected neighbors, the third has one infected neighbor. Thereby, the second node has a $(1 - (1-\\beta)^2)$ probability of getting infected."
   ]
  },
  {
   "cell_type": "code",
   "execution_count": null,
   "metadata": {},
   "outputs": [],
   "source": [
    "def select_nodes(vec, proba):\n",
    "    sample = np.random.rand(len(vec))\n",
    "    res = sample < (1 - (1 - proba)**vec)\n",
    "    return res.astype('int')"
   ]
  },
  {
   "cell_type": "markdown",
   "metadata": {},
   "source": [
    "Let us infect a few random nodes and simulate a propogation of an epidemic.\n",
    "\n",
    "Write a function `sis_networks` that takes a graph `G`, np.array with an initial indicator vector `S` where `S[i]` is 1 if i-th node is susceptible and 0 otherwise (the same for `I`). Any node must be susceptible or infected at any step. Also the function takes rates `beta`, `gamma`, number of steps `k`. The function returns a np.array of shape `(k+1, 2, n)` where `n` is a number of nodes. At i-th step, the matrix `result[i, :, :]` contains indicator `S` in the first column and `I` in the second.\n",
    "\n",
    "_Hint: to calculate the number of infected neighbors, use `I @ A * S`_"
   ]
  },
  {
   "cell_type": "code",
   "execution_count": null,
   "metadata": {
    "deletable": false,
    "nbgrader": {
     "cell_type": "code",
     "checksum": "182b57db8b45bd35931091e9551a8cce",
     "grade": false,
     "grade_id": "cell-f33660a5d2dbb576",
     "locked": false,
     "schema_version": 3,
     "solution": true,
     "task": false
    }
   },
   "outputs": [],
   "source": [
    "def sis_networks(G, S, I, beta, gamma, k):\n",
    "    # YOUR CODE HERE\n",
    "    raise NotImplementedError()"
   ]
  },
  {
   "cell_type": "code",
   "execution_count": null,
   "metadata": {
    "deletable": false,
    "editable": false,
    "nbgrader": {
     "cell_type": "code",
     "checksum": "2b7b0e68738acd5414f42599e1f3beb1",
     "grade": true,
     "grade_id": "cell-2c47299822fed6e8",
     "locked": true,
     "points": 2,
     "schema_version": 3,
     "solution": false,
     "task": false
    }
   },
   "outputs": [],
   "source": [
    "G = nx.barabasi_albert_graph(50, 3, seed=0)\n",
    "\n",
    "I = np.zeros(len(G))\n",
    "I[:3] = 1\n",
    "S = 1 - I\n",
    "beta = 0.2\n",
    "gamma = 0.2\n",
    "\n",
    "epidemic = sis_networks(G, S, I, beta, gamma, 100)\n",
    "assert epidemic.sum() == 5050\n",
    "assert epidemic.shape == (101, 2, 50)\n",
    "assert (epidemic.sum(axis=1) == 1).sum() == 5050\n",
    "sigma = 6.3853\n",
    "mean = 16.0198\n",
    "assert mean - 2*sigma < round(epidemic.sum(axis=2)[:, 0].mean(), 4) < mean + 2*sigma\n",
    "sigma = 5.953\n",
    "mean = 34.2178\n",
    "assert mean - 2*sigma < round(epidemic.sum(axis=2)[:, 1].mean(), 4) < mean + 2*sigma"
   ]
  },
  {
   "cell_type": "code",
   "execution_count": null,
   "metadata": {},
   "outputs": [],
   "source": [
    "plt.plot(epidemic.sum(axis=2))\n",
    "plt.legend(['S', 'I']);"
   ]
  },
  {
   "cell_type": "code",
   "execution_count": null,
   "metadata": {},
   "outputs": [],
   "source": [
    "plt.figure(figsize=(7*2, 5*3))\n",
    "pos = nx.kamada_kawai_layout(G)\n",
    "i = 1\n",
    "for S, I in epidemic[:6]:\n",
    "    plt.subplot(3, 2, i)\n",
    "    nodes = nx.draw_networkx_nodes(G, pos, \n",
    "            node_size=400,\n",
    "            node_color=I+1, \n",
    "            vmin=0, vmax=2, \n",
    "            cmap=plt.cm.rainbow,\n",
    "            edgecolors='black')\n",
    "    nx.draw_networkx_edges(G, pos,\n",
    "            width=0.5,\n",
    "            node_size=400)\n",
    "    nx.draw_networkx_labels(G, pos)\n",
    "    plt.title('Step {}'.format(i))\n",
    "    plt.legend(nodes.legend_elements()[0], ['Susceptible', 'Infected'])\n",
    "    plt.axis('off')\n",
    "    i += 1"
   ]
  },
  {
   "cell_type": "markdown",
   "metadata": {},
   "source": [
    "### Task 6. SIRS node-level model (2 points)\n",
    "\n",
    "We already done compartmental SIRS model, let us implement SIRS node-level model\n",
    "$$S \\to_{\\beta SI} I \\to_{\\gamma I} R \\to_{\\delta R} S$$\n",
    "\n",
    "Write a function `sirs_networks` that takes a graph `G`, np.array with initial indicator `S` where `S[i]` is 1 if i-th node is susceptible and 0 otherwise (the same for `I` and `R`). Also the function takes rates `beta`, `gamma`, `delta`, number of steps `k`. The function returns a np.array of shape `(k+1, 3, n)` where `n` is a number of nodes. At i-th step, the matrix `result[i, :, :]` contains indicator `S` in the first column, `I` in the second, `R` in the third."
   ]
  },
  {
   "cell_type": "code",
   "execution_count": null,
   "metadata": {
    "deletable": false,
    "nbgrader": {
     "cell_type": "code",
     "checksum": "c320397992fcb688a87d05804302f134",
     "grade": false,
     "grade_id": "cell-020c9b41035ead22",
     "locked": false,
     "schema_version": 3,
     "solution": true,
     "task": false
    }
   },
   "outputs": [],
   "source": [
    "def sis_networks(G, S, I, R, beta, gamma, delta, k):\n",
    "    # YOUR CODE HERE\n",
    "    raise NotImplementedError()"
   ]
  },
  {
   "cell_type": "code",
   "execution_count": null,
   "metadata": {
    "deletable": false,
    "editable": false,
    "nbgrader": {
     "cell_type": "code",
     "checksum": "054c9de4480a9775896854735470a8bc",
     "grade": true,
     "grade_id": "cell-a979cac6b1669d06",
     "locked": true,
     "points": 2,
     "schema_version": 3,
     "solution": false,
     "task": false
    }
   },
   "outputs": [],
   "source": [
    "G = nx.barabasi_albert_graph(40, 3, seed=0)\n",
    "I = np.zeros(len(G))\n",
    "I[:3] = 1\n",
    "S = 1 - I\n",
    "R = np.zeros(len(G))\n",
    "\n",
    "beta = 0.1\n",
    "gamma = 0.3\n",
    "delta = 0.1\n",
    "\n",
    "epidemic = sis_networks(G, S, I, R, beta, gamma, delta, 200)\n",
    "assert epidemic.shape == (201, 3, 40)\n",
    "assert (epidemic.sum(axis=1) == 1).sum() == 8040\n",
    "assert (epidemic[200].sum(axis=1) == [40, 0, 0]).sum() == 3"
   ]
  },
  {
   "cell_type": "code",
   "execution_count": null,
   "metadata": {},
   "outputs": [],
   "source": [
    "plt.plot(epidemic.sum(axis=2))\n",
    "plt.legend(['S', 'I', 'R']);"
   ]
  },
  {
   "cell_type": "code",
   "execution_count": null,
   "metadata": {},
   "outputs": [],
   "source": [
    "plt.figure(figsize=(7*2, 5*3))\n",
    "pos = nx.kamada_kawai_layout(G)\n",
    "i = 1\n",
    "for S, I, R in epidemic[:6]:\n",
    "    plt.subplot(3, 2, i)\n",
    "    nodes = nx.draw_networkx_nodes(G, pos, \n",
    "            node_size=400,\n",
    "            node_color=(S + I*2), \n",
    "            vmin=0, vmax=2, \n",
    "            cmap=plt.cm.rainbow,\n",
    "            edgecolors='black')\n",
    "    nx.draw_networkx_edges(G, pos,\n",
    "            width=0.5,\n",
    "            node_size=400)\n",
    "    nx.draw_networkx_labels(G, pos)\n",
    "    plt.title('Step {}'.format(i))\n",
    "    if len(nodes.legend_elements()[0]) == 2:\n",
    "        plt.legend(\n",
    "            nodes.legend_elements()[0], \n",
    "            ['Susceptible', 'Infected'])\n",
    "    else:\n",
    "        plt.legend(\n",
    "            nodes.legend_elements()[0], \n",
    "            ['Recovered', 'Susceptible', 'Infected'])\n",
    "    plt.axis('off')\n",
    "    i += 1"
   ]
  },
  {
   "cell_type": "code",
   "execution_count": null,
   "metadata": {},
   "outputs": [],
   "source": []
  }
 ],
 "metadata": {
  "kernelspec": {
   "display_name": "Python 3",
   "language": "python",
   "name": "python3"
  },
  "language_info": {
   "codemirror_mode": {
    "name": "ipython",
    "version": 3
   },
   "file_extension": ".py",
   "mimetype": "text/x-python",
   "name": "python",
   "nbconvert_exporter": "python",
   "pygments_lexer": "ipython3",
   "version": "3.7.4"
  }
 },
 "nbformat": 4,
 "nbformat_minor": 2
}
